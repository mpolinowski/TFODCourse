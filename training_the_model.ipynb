{
 "cells": [
  {
   "cell_type": "markdown",
   "id": "21a0c9e2",
   "metadata": {},
   "source": [
    "# Model Training"
   ]
  },
  {
   "cell_type": "markdown",
   "id": "41630fce",
   "metadata": {},
   "source": [
    "## Project Setup"
   ]
  },
  {
   "cell_type": "code",
   "execution_count": 1,
   "id": "e4f0a8e6",
   "metadata": {},
   "outputs": [],
   "source": [
    "import os"
   ]
  },
  {
   "cell_type": "code",
   "execution_count": 2,
   "id": "dd45568e",
   "metadata": {},
   "outputs": [],
   "source": [
    "CUSTOM_MODEL_NAME = 'my_ssd_mobnet'\n",
    "PRETRAINED_MODEL_NAME = 'ssd_mobilenet_v2_fpnlite_320x320_coco17_tpu-8'\n",
    "PRETRAINED_MODEL_URL =  'http://download.tensorflow.org/models/object_detection/tf2/20200711/ssd_mobilenet_v2_fpnlite_320x320_coco17_tpu-8.tar.gz'\n",
    "TF_RECORD_SCRIPT_NAME = 'generate_tfrecord.py'\n",
    "LABEL_MAP_NAME = 'label_map.pbtxt'"
   ]
  },
  {
   "cell_type": "code",
   "execution_count": 3,
   "id": "b6f1c1c4",
   "metadata": {},
   "outputs": [],
   "source": [
    "paths = {\n",
    "    'WORKSPACE_PATH': os.path.join('Tensorflow', 'workspace'),\n",
    "    'SCRIPTS_PATH': os.path.join('Tensorflow','scripts'),\n",
    "    'APIMODEL_PATH': os.path.join('Tensorflow','models'),\n",
    "    'ANNOTATION_PATH': os.path.join('Tensorflow', 'workspace','annotations'),\n",
    "    'IMAGE_PATH': os.path.join('Tensorflow', 'workspace','images'),\n",
    "    'MODEL_PATH': os.path.join('Tensorflow', 'workspace','models'),\n",
    "    'PRETRAINED_MODEL_PATH': os.path.join('Tensorflow', 'workspace','pre-trained-models'),\n",
    "    'CHECKPOINT_PATH': os.path.join('Tensorflow', 'workspace','models',CUSTOM_MODEL_NAME), \n",
    "    'OUTPUT_PATH': os.path.join('Tensorflow', 'workspace','models',CUSTOM_MODEL_NAME, 'export'), \n",
    "    'TFJS_PATH':os.path.join('Tensorflow', 'workspace','models',CUSTOM_MODEL_NAME, 'tfjsexport'), \n",
    "    'TFLITE_PATH':os.path.join('Tensorflow', 'workspace','models',CUSTOM_MODEL_NAME, 'tfliteexport'), \n",
    "    'PROTOC_PATH':os.path.join('Tensorflow','protoc')\n",
    " }"
   ]
  },
  {
   "cell_type": "code",
   "execution_count": 4,
   "id": "9c27fdc7",
   "metadata": {},
   "outputs": [],
   "source": [
    "files = {\n",
    "    'PIPELINE_CONFIG':os.path.join('Tensorflow', 'workspace','models', CUSTOM_MODEL_NAME, 'pipeline.config'),\n",
    "    'TF_RECORD_SCRIPT': os.path.join(paths['SCRIPTS_PATH'], TF_RECORD_SCRIPT_NAME), \n",
    "    'LABELMAP': os.path.join(paths['ANNOTATION_PATH'], LABEL_MAP_NAME)\n",
    "}"
   ]
  },
  {
   "cell_type": "code",
   "execution_count": 5,
   "id": "62021b9c",
   "metadata": {},
   "outputs": [],
   "source": [
    "for path in paths.values():\n",
    "    if not os.path.exists(path):\n",
    "        if os.name == 'posix':\n",
    "            !mkdir -p {path}\n",
    "        if os.name == 'nt':\n",
    "            !mkdir {path}"
   ]
  },
  {
   "cell_type": "markdown",
   "id": "07c33c42",
   "metadata": {},
   "source": [
    "## Model Download and TFOD Installation"
   ]
  },
  {
   "cell_type": "markdown",
   "id": "6aa9d6d1",
   "metadata": {},
   "source": [
    "### Cloning TF Model Zoo"
   ]
  },
  {
   "cell_type": "code",
   "execution_count": 6,
   "id": "086a9a0a",
   "metadata": {},
   "outputs": [
    {
     "name": "stdout",
     "output_type": "stream",
     "text": [
      "Cloning into 'Tensorflow/models'...\n",
      "remote: Enumerating objects: 68293, done.\u001b[K\n",
      "remote: Total 68293 (delta 0), reused 0 (delta 0), pack-reused 68293\u001b[K\n",
      "\u001b[KReceiving objects: 100% (68293/68293), 576.56 MiB | 2.06 MiB/s, done.\n",
      "\u001b[KResolving deltas: 100% (48009/48009), done.\n"
     ]
    }
   ],
   "source": [
    "if os.name=='nt':\n",
    "    !pip install wget\n",
    "    import wget\n",
    "    \n",
    "if not os.path.exists(os.path.join(paths['APIMODEL_PATH'], 'research', 'object_detection')):\n",
    "    !git clone https://github.com/tensorflow/models {paths['APIMODEL_PATH']}"
   ]
  },
  {
   "cell_type": "markdown",
   "id": "df0459ec",
   "metadata": {},
   "source": [
    "### Install Tensorflow Object Detection"
   ]
  },
  {
   "cell_type": "code",
   "execution_count": 7,
   "id": "3a4ee6c8",
   "metadata": {},
   "outputs": [
    {
     "name": "stdout",
     "output_type": "stream",
     "text": [
      "/bin/bash: line 1: apt-get: command not found\n",
      "Processing /opt/Python/TFODCourse/Tensorflow/models/research\n",
      "  Preparing metadata (setup.py) ... \u001b[?25ldone\n",
      "\u001b[?25hRequirement already satisfied: avro-python3 in /opt/Python/TFODCourse/tfod/lib/python3.9/site-packages (from object-detection==0.1) (1.10.2)\n",
      "Requirement already satisfied: apache-beam in /opt/Python/TFODCourse/tfod/lib/python3.9/site-packages (from object-detection==0.1) (2.35.0)\n",
      "Requirement already satisfied: pillow in /opt/Python/TFODCourse/tfod/lib/python3.9/site-packages (from object-detection==0.1) (8.4.0)\n",
      "Requirement already satisfied: lxml in /opt/Python/TFODCourse/tfod/lib/python3.9/site-packages (from object-detection==0.1) (4.7.1)\n",
      "Requirement already satisfied: matplotlib in /opt/Python/TFODCourse/tfod/lib/python3.9/site-packages (from object-detection==0.1) (3.2.0)\n",
      "Requirement already satisfied: Cython in /opt/Python/TFODCourse/tfod/lib/python3.9/site-packages (from object-detection==0.1) (0.29.26)\n",
      "Requirement already satisfied: contextlib2 in /opt/Python/TFODCourse/tfod/lib/python3.9/site-packages (from object-detection==0.1) (21.6.0)\n",
      "Requirement already satisfied: tf-slim in /opt/Python/TFODCourse/tfod/lib/python3.9/site-packages (from object-detection==0.1) (1.1.0)\n",
      "Requirement already satisfied: six in /opt/Python/TFODCourse/tfod/lib/python3.9/site-packages (from object-detection==0.1) (1.16.0)\n",
      "Requirement already satisfied: pycocotools in /opt/Python/TFODCourse/tfod/lib/python3.9/site-packages (from object-detection==0.1) (2.0.3)\n",
      "Requirement already satisfied: lvis in /opt/Python/TFODCourse/tfod/lib/python3.9/site-packages (from object-detection==0.1) (0.5.3)\n",
      "Requirement already satisfied: scipy in /opt/Python/TFODCourse/tfod/lib/python3.9/site-packages (from object-detection==0.1) (1.7.3)\n",
      "Requirement already satisfied: pandas in /opt/Python/TFODCourse/tfod/lib/python3.9/site-packages (from object-detection==0.1) (1.3.5)\n",
      "Requirement already satisfied: tf-models-official>=2.5.1 in /opt/Python/TFODCourse/tfod/lib/python3.9/site-packages (from object-detection==0.1) (2.7.0)\n",
      "Requirement already satisfied: tensorflow_io in /opt/Python/TFODCourse/tfod/lib/python3.9/site-packages (from object-detection==0.1) (0.23.1)\n",
      "Requirement already satisfied: keras in /opt/Python/TFODCourse/tfod/lib/python3.9/site-packages (from object-detection==0.1) (2.7.0)\n",
      "Requirement already satisfied: sentencepiece in /opt/Python/TFODCourse/tfod/lib/python3.9/site-packages (from tf-models-official>=2.5.1->object-detection==0.1) (0.1.96)\n",
      "Requirement already satisfied: tensorflow-hub>=0.6.0 in /opt/Python/TFODCourse/tfod/lib/python3.9/site-packages (from tf-models-official>=2.5.1->object-detection==0.1) (0.12.0)\n",
      "Requirement already satisfied: tensorflow>=2.7.0 in /opt/Python/TFODCourse/tfod/lib/python3.9/site-packages (from tf-models-official>=2.5.1->object-detection==0.1) (2.7.0)\n",
      "Requirement already satisfied: opencv-python-headless in /opt/Python/TFODCourse/tfod/lib/python3.9/site-packages (from tf-models-official>=2.5.1->object-detection==0.1) (4.5.5.62)\n",
      "Requirement already satisfied: oauth2client in /opt/Python/TFODCourse/tfod/lib/python3.9/site-packages (from tf-models-official>=2.5.1->object-detection==0.1) (4.1.3)\n",
      "Requirement already satisfied: pyyaml>=5.1 in /opt/Python/TFODCourse/tfod/lib/python3.9/site-packages (from tf-models-official>=2.5.1->object-detection==0.1) (6.0)\n",
      "Requirement already satisfied: tensorflow-text>=2.7.0 in /opt/Python/TFODCourse/tfod/lib/python3.9/site-packages (from tf-models-official>=2.5.1->object-detection==0.1) (2.7.3)\n",
      "Requirement already satisfied: sacrebleu in /opt/Python/TFODCourse/tfod/lib/python3.9/site-packages (from tf-models-official>=2.5.1->object-detection==0.1) (2.0.0)\n",
      "Requirement already satisfied: py-cpuinfo>=3.3.0 in /opt/Python/TFODCourse/tfod/lib/python3.9/site-packages (from tf-models-official>=2.5.1->object-detection==0.1) (8.0.0)\n",
      "Requirement already satisfied: psutil>=5.4.3 in /opt/Python/TFODCourse/tfod/lib/python3.9/site-packages (from tf-models-official>=2.5.1->object-detection==0.1) (5.9.0)\n",
      "Requirement already satisfied: tensorflow-addons in /opt/Python/TFODCourse/tfod/lib/python3.9/site-packages (from tf-models-official>=2.5.1->object-detection==0.1) (0.15.0)\n",
      "Requirement already satisfied: gin-config in /opt/Python/TFODCourse/tfod/lib/python3.9/site-packages (from tf-models-official>=2.5.1->object-detection==0.1) (0.5.0)\n",
      "Requirement already satisfied: tensorflow-datasets in /opt/Python/TFODCourse/tfod/lib/python3.9/site-packages (from tf-models-official>=2.5.1->object-detection==0.1) (4.4.0)\n",
      "Requirement already satisfied: tensorflow-model-optimization>=0.4.1 in /opt/Python/TFODCourse/tfod/lib/python3.9/site-packages (from tf-models-official>=2.5.1->object-detection==0.1) (0.7.0)\n",
      "Requirement already satisfied: seqeval in /opt/Python/TFODCourse/tfod/lib/python3.9/site-packages (from tf-models-official>=2.5.1->object-detection==0.1) (1.2.2)\n",
      "Requirement already satisfied: numpy>=1.15.4 in /opt/Python/TFODCourse/tfod/lib/python3.9/site-packages (from tf-models-official>=2.5.1->object-detection==0.1) (1.20.3)\n",
      "Requirement already satisfied: kaggle>=1.3.9 in /opt/Python/TFODCourse/tfod/lib/python3.9/site-packages (from tf-models-official>=2.5.1->object-detection==0.1) (1.5.12)\n",
      "Requirement already satisfied: google-api-python-client>=1.6.7 in /opt/Python/TFODCourse/tfod/lib/python3.9/site-packages (from tf-models-official>=2.5.1->object-detection==0.1) (2.33.0)\n",
      "Requirement already satisfied: python-dateutil>=2.7.3 in /opt/Python/TFODCourse/tfod/lib/python3.9/site-packages (from pandas->object-detection==0.1) (2.8.2)\n",
      "Requirement already satisfied: pytz>=2017.3 in /opt/Python/TFODCourse/tfod/lib/python3.9/site-packages (from pandas->object-detection==0.1) (2021.3)\n",
      "Requirement already satisfied: absl-py>=0.2.2 in /opt/Python/TFODCourse/tfod/lib/python3.9/site-packages (from tf-slim->object-detection==0.1) (0.12.0)\n",
      "Requirement already satisfied: hdfs<3.0.0,>=2.1.0 in /opt/Python/TFODCourse/tfod/lib/python3.9/site-packages (from apache-beam->object-detection==0.1) (2.6.0)\n",
      "Requirement already satisfied: typing-extensions<4,>=3.7.0 in /opt/Python/TFODCourse/tfod/lib/python3.9/site-packages (from apache-beam->object-detection==0.1) (3.10.0.2)\n",
      "Requirement already satisfied: requests<3.0.0,>=2.24.0 in /opt/Python/TFODCourse/tfod/lib/python3.9/site-packages (from apache-beam->object-detection==0.1) (2.26.0)\n",
      "Requirement already satisfied: crcmod<2.0,>=1.7 in /opt/Python/TFODCourse/tfod/lib/python3.9/site-packages (from apache-beam->object-detection==0.1) (1.7)\n",
      "Requirement already satisfied: fastavro<2,>=0.21.4 in /opt/Python/TFODCourse/tfod/lib/python3.9/site-packages (from apache-beam->object-detection==0.1) (1.4.8)\n",
      "Requirement already satisfied: pyarrow<7.0.0,>=0.15.1 in /opt/Python/TFODCourse/tfod/lib/python3.9/site-packages (from apache-beam->object-detection==0.1) (6.0.1)\n",
      "Requirement already satisfied: grpcio<2,>=1.29.0 in /opt/Python/TFODCourse/tfod/lib/python3.9/site-packages (from apache-beam->object-detection==0.1) (1.43.0)\n",
      "Requirement already satisfied: protobuf<4,>=3.12.2 in /opt/Python/TFODCourse/tfod/lib/python3.9/site-packages (from apache-beam->object-detection==0.1) (3.19.1)\n",
      "Requirement already satisfied: pydot<2,>=1.2.0 in /opt/Python/TFODCourse/tfod/lib/python3.9/site-packages (from apache-beam->object-detection==0.1) (1.4.2)\n",
      "Requirement already satisfied: dill<0.3.2,>=0.3.1.1 in /opt/Python/TFODCourse/tfod/lib/python3.9/site-packages (from apache-beam->object-detection==0.1) (0.3.1.1)\n",
      "Requirement already satisfied: proto-plus<2,>=1.7.1 in /opt/Python/TFODCourse/tfod/lib/python3.9/site-packages (from apache-beam->object-detection==0.1) (1.19.8)\n",
      "Requirement already satisfied: httplib2<0.20.0,>=0.8 in /opt/Python/TFODCourse/tfod/lib/python3.9/site-packages (from apache-beam->object-detection==0.1) (0.19.1)\n",
      "Requirement already satisfied: orjson<4.0 in /opt/Python/TFODCourse/tfod/lib/python3.9/site-packages (from apache-beam->object-detection==0.1) (3.6.5)\n",
      "Requirement already satisfied: pymongo<4.0.0,>=3.8.0 in /opt/Python/TFODCourse/tfod/lib/python3.9/site-packages (from apache-beam->object-detection==0.1) (3.12.3)\n",
      "Requirement already satisfied: opencv-python>=4.1.0.25 in /opt/Python/TFODCourse/tfod/lib/python3.9/site-packages (from lvis->object-detection==0.1) (4.5.5.62)\n",
      "Requirement already satisfied: pyparsing>=2.4.0 in /opt/Python/TFODCourse/tfod/lib/python3.9/site-packages (from lvis->object-detection==0.1) (2.4.7)\n",
      "Requirement already satisfied: kiwisolver>=1.1.0 in /opt/Python/TFODCourse/tfod/lib/python3.9/site-packages (from lvis->object-detection==0.1) (1.3.2)\n",
      "Requirement already satisfied: cycler>=0.10.0 in /opt/Python/TFODCourse/tfod/lib/python3.9/site-packages (from lvis->object-detection==0.1) (0.11.0)\n"
     ]
    },
    {
     "name": "stdout",
     "output_type": "stream",
     "text": [
      "Requirement already satisfied: setuptools>=18.0 in /opt/Python/TFODCourse/tfod/lib/python3.9/site-packages (from pycocotools->object-detection==0.1) (57.4.0)\n",
      "Requirement already satisfied: tensorflow-io-gcs-filesystem==0.23.1 in /opt/Python/TFODCourse/tfod/lib/python3.9/site-packages (from tensorflow_io->object-detection==0.1) (0.23.1)\n",
      "Requirement already satisfied: google-auth<3.0.0dev,>=1.16.0 in /opt/Python/TFODCourse/tfod/lib/python3.9/site-packages (from google-api-python-client>=1.6.7->tf-models-official>=2.5.1->object-detection==0.1) (2.3.3)\n",
      "Requirement already satisfied: uritemplate<5,>=3.0.0 in /opt/Python/TFODCourse/tfod/lib/python3.9/site-packages (from google-api-python-client>=1.6.7->tf-models-official>=2.5.1->object-detection==0.1) (4.1.1)\n",
      "Requirement already satisfied: google-auth-httplib2>=0.1.0 in /opt/Python/TFODCourse/tfod/lib/python3.9/site-packages (from google-api-python-client>=1.6.7->tf-models-official>=2.5.1->object-detection==0.1) (0.1.0)\n",
      "Requirement already satisfied: google-api-core<3.0.0dev,>=1.21.0 in /opt/Python/TFODCourse/tfod/lib/python3.9/site-packages (from google-api-python-client>=1.6.7->tf-models-official>=2.5.1->object-detection==0.1) (2.3.2)\n",
      "Requirement already satisfied: docopt in /opt/Python/TFODCourse/tfod/lib/python3.9/site-packages (from hdfs<3.0.0,>=2.1.0->apache-beam->object-detection==0.1) (0.6.2)\n",
      "Requirement already satisfied: python-slugify in /opt/Python/TFODCourse/tfod/lib/python3.9/site-packages (from kaggle>=1.3.9->tf-models-official>=2.5.1->object-detection==0.1) (5.0.2)\n",
      "Requirement already satisfied: urllib3 in /opt/Python/TFODCourse/tfod/lib/python3.9/site-packages (from kaggle>=1.3.9->tf-models-official>=2.5.1->object-detection==0.1) (1.26.7)\n",
      "Requirement already satisfied: tqdm in /opt/Python/TFODCourse/tfod/lib/python3.9/site-packages (from kaggle>=1.3.9->tf-models-official>=2.5.1->object-detection==0.1) (4.62.3)\n",
      "Requirement already satisfied: certifi in /opt/Python/TFODCourse/tfod/lib/python3.9/site-packages (from kaggle>=1.3.9->tf-models-official>=2.5.1->object-detection==0.1) (2021.10.8)\n",
      "Requirement already satisfied: pyasn1-modules>=0.0.5 in /opt/Python/TFODCourse/tfod/lib/python3.9/site-packages (from oauth2client->tf-models-official>=2.5.1->object-detection==0.1) (0.2.8)\n",
      "Requirement already satisfied: pyasn1>=0.1.7 in /opt/Python/TFODCourse/tfod/lib/python3.9/site-packages (from oauth2client->tf-models-official>=2.5.1->object-detection==0.1) (0.4.8)\n",
      "Requirement already satisfied: rsa>=3.1.4 in /opt/Python/TFODCourse/tfod/lib/python3.9/site-packages (from oauth2client->tf-models-official>=2.5.1->object-detection==0.1) (4.8)\n",
      "Requirement already satisfied: idna<4,>=2.5 in /opt/Python/TFODCourse/tfod/lib/python3.9/site-packages (from requests<3.0.0,>=2.24.0->apache-beam->object-detection==0.1) (3.3)\n",
      "Requirement already satisfied: charset-normalizer~=2.0.0 in /opt/Python/TFODCourse/tfod/lib/python3.9/site-packages (from requests<3.0.0,>=2.24.0->apache-beam->object-detection==0.1) (2.0.9)\n",
      "Requirement already satisfied: h5py>=2.9.0 in /opt/Python/TFODCourse/tfod/lib/python3.9/site-packages (from tensorflow>=2.7.0->tf-models-official>=2.5.1->object-detection==0.1) (3.6.0)\n",
      "Requirement already satisfied: wrapt>=1.11.0 in /opt/Python/TFODCourse/tfod/lib/python3.9/site-packages (from tensorflow>=2.7.0->tf-models-official>=2.5.1->object-detection==0.1) (1.13.3)\n",
      "Requirement already satisfied: wheel<1.0,>=0.32.0 in /opt/Python/TFODCourse/tfod/lib/python3.9/site-packages (from tensorflow>=2.7.0->tf-models-official>=2.5.1->object-detection==0.1) (0.37.1)\n",
      "Requirement already satisfied: libclang>=9.0.1 in /opt/Python/TFODCourse/tfod/lib/python3.9/site-packages (from tensorflow>=2.7.0->tf-models-official>=2.5.1->object-detection==0.1) (12.0.0)\n",
      "Requirement already satisfied: google-pasta>=0.1.1 in /opt/Python/TFODCourse/tfod/lib/python3.9/site-packages (from tensorflow>=2.7.0->tf-models-official>=2.5.1->object-detection==0.1) (0.2.0)\n",
      "Requirement already satisfied: flatbuffers<3.0,>=1.12 in /opt/Python/TFODCourse/tfod/lib/python3.9/site-packages (from tensorflow>=2.7.0->tf-models-official>=2.5.1->object-detection==0.1) (2.0)\n",
      "Requirement already satisfied: astunparse>=1.6.0 in /opt/Python/TFODCourse/tfod/lib/python3.9/site-packages (from tensorflow>=2.7.0->tf-models-official>=2.5.1->object-detection==0.1) (1.6.3)\n",
      "Requirement already satisfied: gast<0.5.0,>=0.2.1 in /opt/Python/TFODCourse/tfod/lib/python3.9/site-packages (from tensorflow>=2.7.0->tf-models-official>=2.5.1->object-detection==0.1) (0.4.0)\n",
      "Requirement already satisfied: keras-preprocessing>=1.1.1 in /opt/Python/TFODCourse/tfod/lib/python3.9/site-packages (from tensorflow>=2.7.0->tf-models-official>=2.5.1->object-detection==0.1) (1.1.2)\n",
      "Requirement already satisfied: tensorboard~=2.6 in /opt/Python/TFODCourse/tfod/lib/python3.9/site-packages (from tensorflow>=2.7.0->tf-models-official>=2.5.1->object-detection==0.1) (2.7.0)\n",
      "Requirement already satisfied: opt-einsum>=2.3.2 in /opt/Python/TFODCourse/tfod/lib/python3.9/site-packages (from tensorflow>=2.7.0->tf-models-official>=2.5.1->object-detection==0.1) (3.3.0)\n",
      "Requirement already satisfied: tensorflow-estimator<2.8,~=2.7.0rc0 in /opt/Python/TFODCourse/tfod/lib/python3.9/site-packages (from tensorflow>=2.7.0->tf-models-official>=2.5.1->object-detection==0.1) (2.7.0)\n",
      "Requirement already satisfied: termcolor>=1.1.0 in /opt/Python/TFODCourse/tfod/lib/python3.9/site-packages (from tensorflow>=2.7.0->tf-models-official>=2.5.1->object-detection==0.1) (1.1.0)\n",
      "Requirement already satisfied: dm-tree~=0.1.1 in /opt/Python/TFODCourse/tfod/lib/python3.9/site-packages (from tensorflow-model-optimization>=0.4.1->tf-models-official>=2.5.1->object-detection==0.1) (0.1.6)\n",
      "Requirement already satisfied: colorama in /opt/Python/TFODCourse/tfod/lib/python3.9/site-packages (from sacrebleu->tf-models-official>=2.5.1->object-detection==0.1) (0.4.4)\n",
      "Requirement already satisfied: portalocker in /opt/Python/TFODCourse/tfod/lib/python3.9/site-packages (from sacrebleu->tf-models-official>=2.5.1->object-detection==0.1) (2.3.2)\n",
      "Requirement already satisfied: tabulate>=0.8.9 in /opt/Python/TFODCourse/tfod/lib/python3.9/site-packages (from sacrebleu->tf-models-official>=2.5.1->object-detection==0.1) (0.8.9)\n",
      "Requirement already satisfied: regex in /opt/Python/TFODCourse/tfod/lib/python3.9/site-packages (from sacrebleu->tf-models-official>=2.5.1->object-detection==0.1) (2021.11.10)\n",
      "Requirement already satisfied: scikit-learn>=0.21.3 in /opt/Python/TFODCourse/tfod/lib/python3.9/site-packages (from seqeval->tf-models-official>=2.5.1->object-detection==0.1) (1.0.2)\n",
      "Requirement already satisfied: typeguard>=2.7 in /opt/Python/TFODCourse/tfod/lib/python3.9/site-packages (from tensorflow-addons->tf-models-official>=2.5.1->object-detection==0.1) (2.13.3)\n",
      "Requirement already satisfied: promise in /opt/Python/TFODCourse/tfod/lib/python3.9/site-packages (from tensorflow-datasets->tf-models-official>=2.5.1->object-detection==0.1) (2.3)\n",
      "Requirement already satisfied: future in /opt/Python/TFODCourse/tfod/lib/python3.9/site-packages (from tensorflow-datasets->tf-models-official>=2.5.1->object-detection==0.1) (0.18.2)\n",
      "Requirement already satisfied: attrs>=18.1.0 in /opt/Python/TFODCourse/tfod/lib/python3.9/site-packages (from tensorflow-datasets->tf-models-official>=2.5.1->object-detection==0.1) (21.4.0)\n",
      "Requirement already satisfied: tensorflow-metadata in /opt/Python/TFODCourse/tfod/lib/python3.9/site-packages (from tensorflow-datasets->tf-models-official>=2.5.1->object-detection==0.1) (1.5.0)\n",
      "Requirement already satisfied: googleapis-common-protos<2.0dev,>=1.52.0 in /opt/Python/TFODCourse/tfod/lib/python3.9/site-packages (from google-api-core<3.0.0dev,>=1.21.0->google-api-python-client>=1.6.7->tf-models-official>=2.5.1->object-detection==0.1) (1.54.0)\n",
      "Requirement already satisfied: cachetools<5.0,>=2.0.0 in /opt/Python/TFODCourse/tfod/lib/python3.9/site-packages (from google-auth<3.0.0dev,>=1.16.0->google-api-python-client>=1.6.7->tf-models-official>=2.5.1->object-detection==0.1) (4.2.4)\n",
      "Requirement already satisfied: joblib>=0.11 in /opt/Python/TFODCourse/tfod/lib/python3.9/site-packages (from scikit-learn>=0.21.3->seqeval->tf-models-official>=2.5.1->object-detection==0.1) (1.1.0)\n",
      "Requirement already satisfied: threadpoolctl>=2.0.0 in /opt/Python/TFODCourse/tfod/lib/python3.9/site-packages (from scikit-learn>=0.21.3->seqeval->tf-models-official>=2.5.1->object-detection==0.1) (3.0.0)\n"
     ]
    },
    {
     "name": "stdout",
     "output_type": "stream",
     "text": [
      "Requirement already satisfied: werkzeug>=0.11.15 in /opt/Python/TFODCourse/tfod/lib/python3.9/site-packages (from tensorboard~=2.6->tensorflow>=2.7.0->tf-models-official>=2.5.1->object-detection==0.1) (2.0.2)\n",
      "Requirement already satisfied: google-auth-oauthlib<0.5,>=0.4.1 in /opt/Python/TFODCourse/tfod/lib/python3.9/site-packages (from tensorboard~=2.6->tensorflow>=2.7.0->tf-models-official>=2.5.1->object-detection==0.1) (0.4.6)\n",
      "Requirement already satisfied: markdown>=2.6.8 in /opt/Python/TFODCourse/tfod/lib/python3.9/site-packages (from tensorboard~=2.6->tensorflow>=2.7.0->tf-models-official>=2.5.1->object-detection==0.1) (3.3.6)\n",
      "Requirement already satisfied: tensorboard-data-server<0.7.0,>=0.6.0 in /opt/Python/TFODCourse/tfod/lib/python3.9/site-packages (from tensorboard~=2.6->tensorflow>=2.7.0->tf-models-official>=2.5.1->object-detection==0.1) (0.6.1)\n",
      "Requirement already satisfied: tensorboard-plugin-wit>=1.6.0 in /opt/Python/TFODCourse/tfod/lib/python3.9/site-packages (from tensorboard~=2.6->tensorflow>=2.7.0->tf-models-official>=2.5.1->object-detection==0.1) (1.8.0)\n",
      "Requirement already satisfied: text-unidecode>=1.3 in /opt/Python/TFODCourse/tfod/lib/python3.9/site-packages (from python-slugify->kaggle>=1.3.9->tf-models-official>=2.5.1->object-detection==0.1) (1.3)\n",
      "Requirement already satisfied: requests-oauthlib>=0.7.0 in /opt/Python/TFODCourse/tfod/lib/python3.9/site-packages (from google-auth-oauthlib<0.5,>=0.4.1->tensorboard~=2.6->tensorflow>=2.7.0->tf-models-official>=2.5.1->object-detection==0.1) (1.3.0)\n",
      "Requirement already satisfied: importlib-metadata>=4.4 in /opt/Python/TFODCourse/tfod/lib/python3.9/site-packages (from markdown>=2.6.8->tensorboard~=2.6->tensorflow>=2.7.0->tf-models-official>=2.5.1->object-detection==0.1) (4.10.0)\n",
      "Requirement already satisfied: zipp>=0.5 in /opt/Python/TFODCourse/tfod/lib/python3.9/site-packages (from importlib-metadata>=4.4->markdown>=2.6.8->tensorboard~=2.6->tensorflow>=2.7.0->tf-models-official>=2.5.1->object-detection==0.1) (3.6.0)\n",
      "Requirement already satisfied: oauthlib>=3.0.0 in /opt/Python/TFODCourse/tfod/lib/python3.9/site-packages (from requests-oauthlib>=0.7.0->google-auth-oauthlib<0.5,>=0.4.1->tensorboard~=2.6->tensorflow>=2.7.0->tf-models-official>=2.5.1->object-detection==0.1) (3.1.1)\n",
      "Building wheels for collected packages: object-detection\n",
      "  Building wheel for object-detection (setup.py) ... \u001b[?25ldone\n",
      "\u001b[?25h  Created wheel for object-detection: filename=object_detection-0.1-py3-none-any.whl size=1684295 sha256=6b3cc91e4060c8f6fb513ed99eee645f78ace7ed6f8c58a4bc836db95d2dee38\n",
      "  Stored in directory: /tmp/pip-ephem-wheel-cache-iyuw9aoo/wheels/6d/d1/01/0953aa38be22259b8a52bc1e87be3671afab659fc18c967c82\n",
      "Successfully built object-detection\n",
      "Installing collected packages: object-detection\n",
      "  Attempting uninstall: object-detection\n",
      "    Found existing installation: object-detection 0.1\n",
      "    Uninstalling object-detection-0.1:\n",
      "      Successfully uninstalled object-detection-0.1\n",
      "Successfully installed object-detection-0.1\n"
     ]
    }
   ],
   "source": [
    "if os.name=='posix':  \n",
    "    !apt-get install protobuf-compiler\n",
    "    !cd Tensorflow/models/research && protoc object_detection/protos/*.proto --python_out=. && cp object_detection/packages/tf2/setup.py . && python -m pip install . \n",
    "    \n",
    "if os.name=='nt':\n",
    "    url=\"https://github.com/protocolbuffers/protobuf/releases/download/v3.15.6/protoc-3.15.6-win64.zip\"\n",
    "    wget.download(url)\n",
    "    !move protoc-3.15.6-win64.zip {paths['PROTOC_PATH']}\n",
    "    !cd {paths['PROTOC_PATH']} && tar -xf protoc-3.15.6-win64.zip\n",
    "    os.environ['PATH'] += os.pathsep + os.path.abspath(os.path.join(paths['PROTOC_PATH'], 'bin'))   \n",
    "    !cd Tensorflow/models/research && protoc object_detection/protos/*.proto --python_out=. && copy object_detection\\\\packages\\\\tf2\\\\setup.py setup.py && python setup.py build && python setup.py install\n",
    "    !cd Tensorflow/models/research/slim && pip install -e . "
   ]
  },
  {
   "cell_type": "markdown",
   "id": "691c3914",
   "metadata": {},
   "source": [
    "### Verify they are installed"
   ]
  },
  {
   "cell_type": "code",
   "execution_count": 8,
   "id": "f4ca25fe",
   "metadata": {},
   "outputs": [
    {
     "name": "stdout",
     "output_type": "stream",
     "text": [
      "Requirement already satisfied: tensorflow in ./tfod/lib/python3.9/site-packages (2.7.0)\n",
      "Requirement already satisfied: numpy>=1.14.5 in ./tfod/lib/python3.9/site-packages (from tensorflow) (1.20.3)\n",
      "Requirement already satisfied: gast<0.5.0,>=0.2.1 in ./tfod/lib/python3.9/site-packages (from tensorflow) (0.4.0)\n",
      "Requirement already satisfied: tensorflow-io-gcs-filesystem>=0.21.0 in ./tfod/lib/python3.9/site-packages (from tensorflow) (0.23.1)\n",
      "Requirement already satisfied: tensorboard~=2.6 in ./tfod/lib/python3.9/site-packages (from tensorflow) (2.7.0)\n",
      "Requirement already satisfied: absl-py>=0.4.0 in ./tfod/lib/python3.9/site-packages (from tensorflow) (0.12.0)\n",
      "Requirement already satisfied: keras<2.8,>=2.7.0rc0 in ./tfod/lib/python3.9/site-packages (from tensorflow) (2.7.0)\n",
      "Requirement already satisfied: wheel<1.0,>=0.32.0 in ./tfod/lib/python3.9/site-packages (from tensorflow) (0.37.1)\n",
      "Requirement already satisfied: protobuf>=3.9.2 in ./tfod/lib/python3.9/site-packages (from tensorflow) (3.19.1)\n",
      "Requirement already satisfied: tensorflow-estimator<2.8,~=2.7.0rc0 in ./tfod/lib/python3.9/site-packages (from tensorflow) (2.7.0)\n",
      "Requirement already satisfied: wrapt>=1.11.0 in ./tfod/lib/python3.9/site-packages (from tensorflow) (1.13.3)\n",
      "Requirement already satisfied: opt-einsum>=2.3.2 in ./tfod/lib/python3.9/site-packages (from tensorflow) (3.3.0)\n",
      "Requirement already satisfied: h5py>=2.9.0 in ./tfod/lib/python3.9/site-packages (from tensorflow) (3.6.0)\n",
      "Requirement already satisfied: termcolor>=1.1.0 in ./tfod/lib/python3.9/site-packages (from tensorflow) (1.1.0)\n",
      "Requirement already satisfied: astunparse>=1.6.0 in ./tfod/lib/python3.9/site-packages (from tensorflow) (1.6.3)\n",
      "Requirement already satisfied: keras-preprocessing>=1.1.1 in ./tfod/lib/python3.9/site-packages (from tensorflow) (1.1.2)\n",
      "Requirement already satisfied: six>=1.12.0 in ./tfod/lib/python3.9/site-packages (from tensorflow) (1.16.0)\n",
      "Requirement already satisfied: flatbuffers<3.0,>=1.12 in ./tfod/lib/python3.9/site-packages (from tensorflow) (2.0)\n",
      "Requirement already satisfied: grpcio<2.0,>=1.24.3 in ./tfod/lib/python3.9/site-packages (from tensorflow) (1.43.0)\n",
      "Requirement already satisfied: google-pasta>=0.1.1 in ./tfod/lib/python3.9/site-packages (from tensorflow) (0.2.0)\n",
      "Requirement already satisfied: typing-extensions>=3.6.6 in ./tfod/lib/python3.9/site-packages (from tensorflow) (3.10.0.2)\n",
      "Requirement already satisfied: libclang>=9.0.1 in ./tfod/lib/python3.9/site-packages (from tensorflow) (12.0.0)\n",
      "Requirement already satisfied: werkzeug>=0.11.15 in ./tfod/lib/python3.9/site-packages (from tensorboard~=2.6->tensorflow) (2.0.2)\n",
      "Requirement already satisfied: google-auth-oauthlib<0.5,>=0.4.1 in ./tfod/lib/python3.9/site-packages (from tensorboard~=2.6->tensorflow) (0.4.6)\n",
      "Requirement already satisfied: requests<3,>=2.21.0 in ./tfod/lib/python3.9/site-packages (from tensorboard~=2.6->tensorflow) (2.26.0)\n",
      "Requirement already satisfied: setuptools>=41.0.0 in ./tfod/lib/python3.9/site-packages (from tensorboard~=2.6->tensorflow) (57.4.0)\n",
      "Requirement already satisfied: markdown>=2.6.8 in ./tfod/lib/python3.9/site-packages (from tensorboard~=2.6->tensorflow) (3.3.6)\n",
      "Requirement already satisfied: google-auth<3,>=1.6.3 in ./tfod/lib/python3.9/site-packages (from tensorboard~=2.6->tensorflow) (2.3.3)\n",
      "Requirement already satisfied: tensorboard-data-server<0.7.0,>=0.6.0 in ./tfod/lib/python3.9/site-packages (from tensorboard~=2.6->tensorflow) (0.6.1)\n",
      "Requirement already satisfied: tensorboard-plugin-wit>=1.6.0 in ./tfod/lib/python3.9/site-packages (from tensorboard~=2.6->tensorflow) (1.8.0)\n",
      "Requirement already satisfied: cachetools<5.0,>=2.0.0 in ./tfod/lib/python3.9/site-packages (from google-auth<3,>=1.6.3->tensorboard~=2.6->tensorflow) (4.2.4)\n",
      "Requirement already satisfied: pyasn1-modules>=0.2.1 in ./tfod/lib/python3.9/site-packages (from google-auth<3,>=1.6.3->tensorboard~=2.6->tensorflow) (0.2.8)\n",
      "Requirement already satisfied: rsa<5,>=3.1.4 in ./tfod/lib/python3.9/site-packages (from google-auth<3,>=1.6.3->tensorboard~=2.6->tensorflow) (4.8)\n",
      "Requirement already satisfied: requests-oauthlib>=0.7.0 in ./tfod/lib/python3.9/site-packages (from google-auth-oauthlib<0.5,>=0.4.1->tensorboard~=2.6->tensorflow) (1.3.0)\n",
      "Requirement already satisfied: importlib-metadata>=4.4 in ./tfod/lib/python3.9/site-packages (from markdown>=2.6.8->tensorboard~=2.6->tensorflow) (4.10.0)\n",
      "Requirement already satisfied: urllib3<1.27,>=1.21.1 in ./tfod/lib/python3.9/site-packages (from requests<3,>=2.21.0->tensorboard~=2.6->tensorflow) (1.26.7)\n",
      "Requirement already satisfied: charset-normalizer~=2.0.0 in ./tfod/lib/python3.9/site-packages (from requests<3,>=2.21.0->tensorboard~=2.6->tensorflow) (2.0.9)\n",
      "Requirement already satisfied: certifi>=2017.4.17 in ./tfod/lib/python3.9/site-packages (from requests<3,>=2.21.0->tensorboard~=2.6->tensorflow) (2021.10.8)\n",
      "Requirement already satisfied: idna<4,>=2.5 in ./tfod/lib/python3.9/site-packages (from requests<3,>=2.21.0->tensorboard~=2.6->tensorflow) (3.3)\n",
      "Requirement already satisfied: zipp>=0.5 in ./tfod/lib/python3.9/site-packages (from importlib-metadata>=4.4->markdown>=2.6.8->tensorboard~=2.6->tensorflow) (3.6.0)\n",
      "Requirement already satisfied: pyasn1<0.5.0,>=0.4.6 in ./tfod/lib/python3.9/site-packages (from pyasn1-modules>=0.2.1->google-auth<3,>=1.6.3->tensorboard~=2.6->tensorflow) (0.4.8)\n",
      "Requirement already satisfied: oauthlib>=3.0.0 in ./tfod/lib/python3.9/site-packages (from requests-oauthlib>=0.7.0->google-auth-oauthlib<0.5,>=0.4.1->tensorboard~=2.6->tensorflow) (3.1.1)\n",
      "Found existing installation: protobuf 3.19.1\n",
      "Uninstalling protobuf-3.19.1:\n",
      "  Successfully uninstalled protobuf-3.19.1\n",
      "Found existing installation: matplotlib 3.2.0\n",
      "Uninstalling matplotlib-3.2.0:\n",
      "  Successfully uninstalled matplotlib-3.2.0\n",
      "Collecting protobuf\n",
      "  Using cached protobuf-3.19.1-cp39-cp39-manylinux_2_17_x86_64.manylinux2014_x86_64.whl (1.1 MB)\n",
      "Collecting matplotlib==3.2\n",
      "  Using cached matplotlib-3.2.0-cp39-cp39-linux_x86_64.whl\n",
      "Requirement already satisfied: numpy>=1.11 in ./tfod/lib/python3.9/site-packages (from matplotlib==3.2) (1.20.3)\n",
      "Requirement already satisfied: cycler>=0.10 in ./tfod/lib/python3.9/site-packages (from matplotlib==3.2) (0.11.0)\n",
      "Requirement already satisfied: pyparsing!=2.0.4,!=2.1.2,!=2.1.6,>=2.0.1 in ./tfod/lib/python3.9/site-packages (from matplotlib==3.2) (2.4.7)\n",
      "Requirement already satisfied: python-dateutil>=2.1 in ./tfod/lib/python3.9/site-packages (from matplotlib==3.2) (2.8.2)\n",
      "Requirement already satisfied: kiwisolver>=1.0.1 in ./tfod/lib/python3.9/site-packages (from matplotlib==3.2) (1.3.2)\n",
      "Requirement already satisfied: six>=1.5 in ./tfod/lib/python3.9/site-packages (from python-dateutil>=2.1->matplotlib==3.2) (1.16.0)\n",
      "Installing collected packages: protobuf, matplotlib\n",
      "Successfully installed matplotlib-3.2.0 protobuf-3.19.1\n"
     ]
    }
   ],
   "source": [
    "!pip install tensorflow --upgrade\n",
    "!pip install tensorflow-gpu --upgrade\n",
    "!pip uninstall protobuf matplotlib -y\n",
    "!pip install protobuf matplotlib==3.2"
   ]
  },
  {
   "cell_type": "markdown",
   "id": "653d5a8a",
   "metadata": {},
   "source": [
    "### Verify Tensorflow Setup"
   ]
  },
  {
   "cell_type": "code",
   "execution_count": 9,
   "id": "9ae3d586",
   "metadata": {},
   "outputs": [
    {
     "name": "stdout",
     "output_type": "stream",
     "text": [
      "2022-01-01 17:19:32.610398: I tensorflow/stream_executor/cuda/cuda_gpu_executor.cc:939] successful NUMA node read from SysFS had negative value (-1), but there must be at least one NUMA node, so returning NUMA node zero\n",
      "2022-01-01 17:19:32.740527: I tensorflow/stream_executor/cuda/cuda_gpu_executor.cc:939] successful NUMA node read from SysFS had negative value (-1), but there must be at least one NUMA node, so returning NUMA node zero\n",
      "2022-01-01 17:19:32.740884: I tensorflow/stream_executor/cuda/cuda_gpu_executor.cc:939] successful NUMA node read from SysFS had negative value (-1), but there must be at least one NUMA node, so returning NUMA node zero\n",
      "Running tests under Python 3.9.7: /opt/Python/TFODCourse/tfod/bin/python\n",
      "[ RUN      ] ModelBuilderTF2Test.test_create_center_net_deepmac\n",
      "2022-01-01 17:19:32.750830: I tensorflow/core/platform/cpu_feature_guard.cc:151] This TensorFlow binary is optimized with oneAPI Deep Neural Network Library (oneDNN) to use the following CPU instructions in performance-critical operations:  AVX2 FMA\n",
      "To enable them in other operations, rebuild TensorFlow with the appropriate compiler flags.\n",
      "2022-01-01 17:19:32.751769: I tensorflow/stream_executor/cuda/cuda_gpu_executor.cc:939] successful NUMA node read from SysFS had negative value (-1), but there must be at least one NUMA node, so returning NUMA node zero\n",
      "2022-01-01 17:19:32.752039: I tensorflow/stream_executor/cuda/cuda_gpu_executor.cc:939] successful NUMA node read from SysFS had negative value (-1), but there must be at least one NUMA node, so returning NUMA node zero\n",
      "2022-01-01 17:19:32.752211: I tensorflow/stream_executor/cuda/cuda_gpu_executor.cc:939] successful NUMA node read from SysFS had negative value (-1), but there must be at least one NUMA node, so returning NUMA node zero\n",
      "2022-01-01 17:19:34.050996: I tensorflow/stream_executor/cuda/cuda_gpu_executor.cc:939] successful NUMA node read from SysFS had negative value (-1), but there must be at least one NUMA node, so returning NUMA node zero\n",
      "2022-01-01 17:19:34.051341: I tensorflow/stream_executor/cuda/cuda_gpu_executor.cc:939] successful NUMA node read from SysFS had negative value (-1), but there must be at least one NUMA node, so returning NUMA node zero\n",
      "2022-01-01 17:19:34.051588: I tensorflow/stream_executor/cuda/cuda_gpu_executor.cc:939] successful NUMA node read from SysFS had negative value (-1), but there must be at least one NUMA node, so returning NUMA node zero\n",
      "2022-01-01 17:19:34.051785: I tensorflow/core/common_runtime/gpu/gpu_device.cc:1525] Created device /job:localhost/replica:0/task:0/device:GPU:0 with 4768 MB memory:  -> device: 0, name: NVIDIA GeForce GTX 1060 6GB, pci bus id: 0000:01:00.0, compute capability: 6.1\n",
      "/opt/Python/TFODCourse/tfod/lib/python3.9/site-packages/object_detection/builders/model_builder.py:1100: DeprecationWarning: The 'warn' function is deprecated, use 'warning' instead\n",
      "  logging.warn(('Building experimental DeepMAC meta-arch.'\n",
      "W0101 17:19:34.301868 139913198311232 model_builder.py:1100] Building experimental DeepMAC meta-arch. Some features may be omitted.\n",
      "INFO:tensorflow:time(__main__.ModelBuilderTF2Test.test_create_center_net_deepmac): 1.81s\n",
      "I0101 17:19:34.555497 139913198311232 test_util.py:2308] time(__main__.ModelBuilderTF2Test.test_create_center_net_deepmac): 1.81s\n",
      "[       OK ] ModelBuilderTF2Test.test_create_center_net_deepmac\n",
      "[ RUN      ] ModelBuilderTF2Test.test_create_center_net_model0 (customize_head_params=True)\n",
      "INFO:tensorflow:time(__main__.ModelBuilderTF2Test.test_create_center_net_model0 (customize_head_params=True)): 0.39s\n",
      "I0101 17:19:34.948988 139913198311232 test_util.py:2308] time(__main__.ModelBuilderTF2Test.test_create_center_net_model0 (customize_head_params=True)): 0.39s\n",
      "[       OK ] ModelBuilderTF2Test.test_create_center_net_model0 (customize_head_params=True)\n",
      "[ RUN      ] ModelBuilderTF2Test.test_create_center_net_model1 (customize_head_params=False)\n",
      "INFO:tensorflow:time(__main__.ModelBuilderTF2Test.test_create_center_net_model1 (customize_head_params=False)): 0.19s\n",
      "I0101 17:19:35.140366 139913198311232 test_util.py:2308] time(__main__.ModelBuilderTF2Test.test_create_center_net_model1 (customize_head_params=False)): 0.19s\n",
      "[       OK ] ModelBuilderTF2Test.test_create_center_net_model1 (customize_head_params=False)\n",
      "[ RUN      ] ModelBuilderTF2Test.test_create_center_net_model_from_keypoints\n",
      "INFO:tensorflow:time(__main__.ModelBuilderTF2Test.test_create_center_net_model_from_keypoints): 0.18s\n",
      "I0101 17:19:35.323027 139913198311232 test_util.py:2308] time(__main__.ModelBuilderTF2Test.test_create_center_net_model_from_keypoints): 0.18s\n",
      "[       OK ] ModelBuilderTF2Test.test_create_center_net_model_from_keypoints\n",
      "[ RUN      ] ModelBuilderTF2Test.test_create_center_net_model_mobilenet\n",
      "INFO:tensorflow:time(__main__.ModelBuilderTF2Test.test_create_center_net_model_mobilenet): 1.27s\n",
      "I0101 17:19:36.593068 139913198311232 test_util.py:2308] time(__main__.ModelBuilderTF2Test.test_create_center_net_model_mobilenet): 1.27s\n",
      "[       OK ] ModelBuilderTF2Test.test_create_center_net_model_mobilenet\n",
      "[ RUN      ] ModelBuilderTF2Test.test_create_experimental_model\n",
      "INFO:tensorflow:time(__main__.ModelBuilderTF2Test.test_create_experimental_model): 0.0s\n",
      "I0101 17:19:36.593782 139913198311232 test_util.py:2308] time(__main__.ModelBuilderTF2Test.test_create_experimental_model): 0.0s\n",
      "[       OK ] ModelBuilderTF2Test.test_create_experimental_model\n",
      "[ RUN      ] ModelBuilderTF2Test.test_create_faster_rcnn_from_config_with_crop_feature0 (True)\n",
      "INFO:tensorflow:time(__main__.ModelBuilderTF2Test.test_create_faster_rcnn_from_config_with_crop_feature0 (True)): 0.02s\n",
      "I0101 17:19:36.610434 139913198311232 test_util.py:2308] time(__main__.ModelBuilderTF2Test.test_create_faster_rcnn_from_config_with_crop_feature0 (True)): 0.02s\n",
      "[       OK ] ModelBuilderTF2Test.test_create_faster_rcnn_from_config_with_crop_feature0 (True)\n",
      "[ RUN      ] ModelBuilderTF2Test.test_create_faster_rcnn_from_config_with_crop_feature1 (False)\n",
      "INFO:tensorflow:time(__main__.ModelBuilderTF2Test.test_create_faster_rcnn_from_config_with_crop_feature1 (False)): 0.01s\n",
      "I0101 17:19:36.623692 139913198311232 test_util.py:2308] time(__main__.ModelBuilderTF2Test.test_create_faster_rcnn_from_config_with_crop_feature1 (False)): 0.01s\n",
      "[       OK ] ModelBuilderTF2Test.test_create_faster_rcnn_from_config_with_crop_feature1 (False)\n",
      "[ RUN      ] ModelBuilderTF2Test.test_create_faster_rcnn_model_from_config_with_example_miner\n",
      "INFO:tensorflow:time(__main__.ModelBuilderTF2Test.test_create_faster_rcnn_model_from_config_with_example_miner): 0.02s\n",
      "I0101 17:19:36.642390 139913198311232 test_util.py:2308] time(__main__.ModelBuilderTF2Test.test_create_faster_rcnn_model_from_config_with_example_miner): 0.02s\n",
      "[       OK ] ModelBuilderTF2Test.test_create_faster_rcnn_model_from_config_with_example_miner\n",
      "[ RUN      ] ModelBuilderTF2Test.test_create_faster_rcnn_models_from_config_faster_rcnn_with_matmul\n",
      "INFO:tensorflow:time(__main__.ModelBuilderTF2Test.test_create_faster_rcnn_models_from_config_faster_rcnn_with_matmul): 0.08s\n",
      "I0101 17:19:36.718642 139913198311232 test_util.py:2308] time(__main__.ModelBuilderTF2Test.test_create_faster_rcnn_models_from_config_faster_rcnn_with_matmul): 0.08s\n",
      "[       OK ] ModelBuilderTF2Test.test_create_faster_rcnn_models_from_config_faster_rcnn_with_matmul\n",
      "[ RUN      ] ModelBuilderTF2Test.test_create_faster_rcnn_models_from_config_faster_rcnn_without_matmul\n",
      "INFO:tensorflow:time(__main__.ModelBuilderTF2Test.test_create_faster_rcnn_models_from_config_faster_rcnn_without_matmul): 0.07s\n",
      "I0101 17:19:36.790161 139913198311232 test_util.py:2308] time(__main__.ModelBuilderTF2Test.test_create_faster_rcnn_models_from_config_faster_rcnn_without_matmul): 0.07s\n",
      "[       OK ] ModelBuilderTF2Test.test_create_faster_rcnn_models_from_config_faster_rcnn_without_matmul\n",
      "[ RUN      ] ModelBuilderTF2Test.test_create_faster_rcnn_models_from_config_mask_rcnn_with_matmul\n",
      "INFO:tensorflow:time(__main__.ModelBuilderTF2Test.test_create_faster_rcnn_models_from_config_mask_rcnn_with_matmul): 0.07s\n",
      "I0101 17:19:36.865236 139913198311232 test_util.py:2308] time(__main__.ModelBuilderTF2Test.test_create_faster_rcnn_models_from_config_mask_rcnn_with_matmul): 0.07s\n",
      "[       OK ] ModelBuilderTF2Test.test_create_faster_rcnn_models_from_config_mask_rcnn_with_matmul\n",
      "[ RUN      ] ModelBuilderTF2Test.test_create_faster_rcnn_models_from_config_mask_rcnn_without_matmul\n"
     ]
    },
    {
     "name": "stdout",
     "output_type": "stream",
     "text": [
      "INFO:tensorflow:time(__main__.ModelBuilderTF2Test.test_create_faster_rcnn_models_from_config_mask_rcnn_without_matmul): 0.08s\n",
      "I0101 17:19:36.946317 139913198311232 test_util.py:2308] time(__main__.ModelBuilderTF2Test.test_create_faster_rcnn_models_from_config_mask_rcnn_without_matmul): 0.08s\n",
      "[       OK ] ModelBuilderTF2Test.test_create_faster_rcnn_models_from_config_mask_rcnn_without_matmul\n",
      "[ RUN      ] ModelBuilderTF2Test.test_create_rfcn_model_from_config\n",
      "INFO:tensorflow:time(__main__.ModelBuilderTF2Test.test_create_rfcn_model_from_config): 0.07s\n",
      "I0101 17:19:37.019560 139913198311232 test_util.py:2308] time(__main__.ModelBuilderTF2Test.test_create_rfcn_model_from_config): 0.07s\n",
      "[       OK ] ModelBuilderTF2Test.test_create_rfcn_model_from_config\n",
      "[ RUN      ] ModelBuilderTF2Test.test_create_ssd_fpn_model_from_config\n",
      "INFO:tensorflow:time(__main__.ModelBuilderTF2Test.test_create_ssd_fpn_model_from_config): 0.02s\n",
      "I0101 17:19:37.042998 139913198311232 test_util.py:2308] time(__main__.ModelBuilderTF2Test.test_create_ssd_fpn_model_from_config): 0.02s\n",
      "[       OK ] ModelBuilderTF2Test.test_create_ssd_fpn_model_from_config\n",
      "[ RUN      ] ModelBuilderTF2Test.test_create_ssd_models_from_config\n",
      "I0101 17:19:37.181153 139913198311232 ssd_efficientnet_bifpn_feature_extractor.py:142] EfficientDet EfficientNet backbone version: efficientnet-b0\n",
      "I0101 17:19:37.181255 139913198311232 ssd_efficientnet_bifpn_feature_extractor.py:144] EfficientDet BiFPN num filters: 64\n",
      "I0101 17:19:37.181354 139913198311232 ssd_efficientnet_bifpn_feature_extractor.py:145] EfficientDet BiFPN num iterations: 3\n",
      "I0101 17:19:37.183242 139913198311232 efficientnet_model.py:147] round_filter input=32 output=32\n",
      "I0101 17:19:37.198438 139913198311232 efficientnet_model.py:147] round_filter input=32 output=32\n",
      "I0101 17:19:37.198542 139913198311232 efficientnet_model.py:147] round_filter input=16 output=16\n",
      "I0101 17:19:37.248639 139913198311232 efficientnet_model.py:147] round_filter input=16 output=16\n",
      "I0101 17:19:37.248742 139913198311232 efficientnet_model.py:147] round_filter input=24 output=24\n",
      "I0101 17:19:37.359427 139913198311232 efficientnet_model.py:147] round_filter input=24 output=24\n",
      "I0101 17:19:37.359593 139913198311232 efficientnet_model.py:147] round_filter input=40 output=40\n",
      "I0101 17:19:37.485959 139913198311232 efficientnet_model.py:147] round_filter input=40 output=40\n",
      "I0101 17:19:37.486062 139913198311232 efficientnet_model.py:147] round_filter input=80 output=80\n",
      "I0101 17:19:37.670439 139913198311232 efficientnet_model.py:147] round_filter input=80 output=80\n",
      "I0101 17:19:37.670575 139913198311232 efficientnet_model.py:147] round_filter input=112 output=112\n",
      "I0101 17:19:37.958129 139913198311232 efficientnet_model.py:147] round_filter input=112 output=112\n",
      "I0101 17:19:37.958230 139913198311232 efficientnet_model.py:147] round_filter input=192 output=192\n",
      "I0101 17:19:38.190912 139913198311232 efficientnet_model.py:147] round_filter input=192 output=192\n",
      "I0101 17:19:38.191014 139913198311232 efficientnet_model.py:147] round_filter input=320 output=320\n",
      "I0101 17:19:38.248669 139913198311232 efficientnet_model.py:147] round_filter input=1280 output=1280\n",
      "I0101 17:19:38.270476 139913198311232 efficientnet_model.py:457] Building model efficientnet with params ModelConfig(width_coefficient=1.0, depth_coefficient=1.0, resolution=224, dropout_rate=0.2, blocks=(BlockConfig(input_filters=32, output_filters=16, kernel_size=3, num_repeat=1, expand_ratio=1, strides=(1, 1), se_ratio=0.25, id_skip=True, fused_conv=False, conv_type='depthwise'), BlockConfig(input_filters=16, output_filters=24, kernel_size=3, num_repeat=2, expand_ratio=6, strides=(2, 2), se_ratio=0.25, id_skip=True, fused_conv=False, conv_type='depthwise'), BlockConfig(input_filters=24, output_filters=40, kernel_size=5, num_repeat=2, expand_ratio=6, strides=(2, 2), se_ratio=0.25, id_skip=True, fused_conv=False, conv_type='depthwise'), BlockConfig(input_filters=40, output_filters=80, kernel_size=3, num_repeat=3, expand_ratio=6, strides=(2, 2), se_ratio=0.25, id_skip=True, fused_conv=False, conv_type='depthwise'), BlockConfig(input_filters=80, output_filters=112, kernel_size=5, num_repeat=3, expand_ratio=6, strides=(1, 1), se_ratio=0.25, id_skip=True, fused_conv=False, conv_type='depthwise'), BlockConfig(input_filters=112, output_filters=192, kernel_size=5, num_repeat=4, expand_ratio=6, strides=(2, 2), se_ratio=0.25, id_skip=True, fused_conv=False, conv_type='depthwise'), BlockConfig(input_filters=192, output_filters=320, kernel_size=3, num_repeat=1, expand_ratio=6, strides=(1, 1), se_ratio=0.25, id_skip=True, fused_conv=False, conv_type='depthwise')), stem_base_filters=32, top_base_filters=1280, activation='simple_swish', batch_norm='default', bn_momentum=0.99, bn_epsilon=0.001, weight_decay=5e-06, drop_connect_rate=0.2, depth_divisor=8, min_depth=None, use_se=True, input_channels=3, num_classes=1000, model_name='efficientnet', rescale_input=False, data_format='channels_last', dtype='float32')\n",
      "I0101 17:19:38.309508 139913198311232 ssd_efficientnet_bifpn_feature_extractor.py:142] EfficientDet EfficientNet backbone version: efficientnet-b1\n",
      "I0101 17:19:38.309628 139913198311232 ssd_efficientnet_bifpn_feature_extractor.py:144] EfficientDet BiFPN num filters: 88\n",
      "I0101 17:19:38.309688 139913198311232 ssd_efficientnet_bifpn_feature_extractor.py:145] EfficientDet BiFPN num iterations: 4\n",
      "I0101 17:19:38.311400 139913198311232 efficientnet_model.py:147] round_filter input=32 output=32\n",
      "I0101 17:19:38.327287 139913198311232 efficientnet_model.py:147] round_filter input=32 output=32\n",
      "I0101 17:19:38.327448 139913198311232 efficientnet_model.py:147] round_filter input=16 output=16\n",
      "I0101 17:19:38.447119 139913198311232 efficientnet_model.py:147] round_filter input=16 output=16\n",
      "I0101 17:19:38.447242 139913198311232 efficientnet_model.py:147] round_filter input=24 output=24\n",
      "I0101 17:19:38.611492 139913198311232 efficientnet_model.py:147] round_filter input=24 output=24\n",
      "I0101 17:19:38.611594 139913198311232 efficientnet_model.py:147] round_filter input=40 output=40\n",
      "I0101 17:19:38.801041 139913198311232 efficientnet_model.py:147] round_filter input=40 output=40\n",
      "I0101 17:19:38.801148 139913198311232 efficientnet_model.py:147] round_filter input=80 output=80\n",
      "I0101 17:19:39.056713 139913198311232 efficientnet_model.py:147] round_filter input=80 output=80\n",
      "I0101 17:19:39.056812 139913198311232 efficientnet_model.py:147] round_filter input=112 output=112\n",
      "I0101 17:19:39.311457 139913198311232 efficientnet_model.py:147] round_filter input=112 output=112\n",
      "I0101 17:19:39.311568 139913198311232 efficientnet_model.py:147] round_filter input=192 output=192\n",
      "I0101 17:19:39.610196 139913198311232 efficientnet_model.py:147] round_filter input=192 output=192\n",
      "I0101 17:19:39.610296 139913198311232 efficientnet_model.py:147] round_filter input=320 output=320\n",
      "I0101 17:19:39.721320 139913198311232 efficientnet_model.py:147] round_filter input=1280 output=1280\n",
      "I0101 17:19:39.741456 139913198311232 efficientnet_model.py:457] Building model efficientnet with params ModelConfig(width_coefficient=1.0, depth_coefficient=1.1, resolution=240, dropout_rate=0.2, blocks=(BlockConfig(input_filters=32, output_filters=16, kernel_size=3, num_repeat=1, expand_ratio=1, strides=(1, 1), se_ratio=0.25, id_skip=True, fused_conv=False, conv_type='depthwise'), BlockConfig(input_filters=16, output_filters=24, kernel_size=3, num_repeat=2, expand_ratio=6, strides=(2, 2), se_ratio=0.25, id_skip=True, fused_conv=False, conv_type='depthwise'), BlockConfig(input_filters=24, output_filters=40, kernel_size=5, num_repeat=2, expand_ratio=6, strides=(2, 2), se_ratio=0.25, id_skip=True, fused_conv=False, conv_type='depthwise'), BlockConfig(input_filters=40, output_filters=80, kernel_size=3, num_repeat=3, expand_ratio=6, strides=(2, 2), se_ratio=0.25, id_skip=True, fused_conv=False, conv_type='depthwise'), BlockConfig(input_filters=80, output_filters=112, kernel_size=5, num_repeat=3, expand_ratio=6, strides=(1, 1), se_ratio=0.25, id_skip=True, fused_conv=False, conv_type='depthwise'), BlockConfig(input_filters=112, output_filters=192, kernel_size=5, num_repeat=4, expand_ratio=6, strides=(2, 2), se_ratio=0.25, id_skip=True, fused_conv=False, conv_type='depthwise'), BlockConfig(input_filters=192, output_filters=320, kernel_size=3, num_repeat=1, expand_ratio=6, strides=(1, 1), se_ratio=0.25, id_skip=True, fused_conv=False, conv_type='depthwise')), stem_base_filters=32, top_base_filters=1280, activation='simple_swish', batch_norm='default', bn_momentum=0.99, bn_epsilon=0.001, weight_decay=5e-06, drop_connect_rate=0.2, depth_divisor=8, min_depth=None, use_se=True, input_channels=3, num_classes=1000, model_name='efficientnet', rescale_input=False, data_format='channels_last', dtype='float32')\n"
     ]
    },
    {
     "name": "stdout",
     "output_type": "stream",
     "text": [
      "I0101 17:19:39.786932 139913198311232 ssd_efficientnet_bifpn_feature_extractor.py:142] EfficientDet EfficientNet backbone version: efficientnet-b2\n",
      "I0101 17:19:39.787030 139913198311232 ssd_efficientnet_bifpn_feature_extractor.py:144] EfficientDet BiFPN num filters: 112\n",
      "I0101 17:19:39.787100 139913198311232 ssd_efficientnet_bifpn_feature_extractor.py:145] EfficientDet BiFPN num iterations: 5\n",
      "I0101 17:19:39.788542 139913198311232 efficientnet_model.py:147] round_filter input=32 output=32\n",
      "I0101 17:19:39.801965 139913198311232 efficientnet_model.py:147] round_filter input=32 output=32\n",
      "I0101 17:19:39.802079 139913198311232 efficientnet_model.py:147] round_filter input=16 output=16\n",
      "I0101 17:19:39.888591 139913198311232 efficientnet_model.py:147] round_filter input=16 output=16\n",
      "I0101 17:19:39.888688 139913198311232 efficientnet_model.py:147] round_filter input=24 output=24\n",
      "I0101 17:19:40.050210 139913198311232 efficientnet_model.py:147] round_filter input=24 output=24\n",
      "I0101 17:19:40.050324 139913198311232 efficientnet_model.py:147] round_filter input=40 output=48\n",
      "I0101 17:19:40.212779 139913198311232 efficientnet_model.py:147] round_filter input=40 output=48\n",
      "I0101 17:19:40.212878 139913198311232 efficientnet_model.py:147] round_filter input=80 output=88\n",
      "I0101 17:19:40.445357 139913198311232 efficientnet_model.py:147] round_filter input=80 output=88\n",
      "I0101 17:19:40.445476 139913198311232 efficientnet_model.py:147] round_filter input=112 output=120\n",
      "I0101 17:19:40.675375 139913198311232 efficientnet_model.py:147] round_filter input=112 output=120\n",
      "I0101 17:19:40.675472 139913198311232 efficientnet_model.py:147] round_filter input=192 output=208\n",
      "I0101 17:19:41.045880 139913198311232 efficientnet_model.py:147] round_filter input=192 output=208\n",
      "I0101 17:19:41.045984 139913198311232 efficientnet_model.py:147] round_filter input=320 output=352\n",
      "I0101 17:19:41.152303 139913198311232 efficientnet_model.py:147] round_filter input=1280 output=1408\n",
      "I0101 17:19:41.176658 139913198311232 efficientnet_model.py:457] Building model efficientnet with params ModelConfig(width_coefficient=1.1, depth_coefficient=1.2, resolution=260, dropout_rate=0.3, blocks=(BlockConfig(input_filters=32, output_filters=16, kernel_size=3, num_repeat=1, expand_ratio=1, strides=(1, 1), se_ratio=0.25, id_skip=True, fused_conv=False, conv_type='depthwise'), BlockConfig(input_filters=16, output_filters=24, kernel_size=3, num_repeat=2, expand_ratio=6, strides=(2, 2), se_ratio=0.25, id_skip=True, fused_conv=False, conv_type='depthwise'), BlockConfig(input_filters=24, output_filters=40, kernel_size=5, num_repeat=2, expand_ratio=6, strides=(2, 2), se_ratio=0.25, id_skip=True, fused_conv=False, conv_type='depthwise'), BlockConfig(input_filters=40, output_filters=80, kernel_size=3, num_repeat=3, expand_ratio=6, strides=(2, 2), se_ratio=0.25, id_skip=True, fused_conv=False, conv_type='depthwise'), BlockConfig(input_filters=80, output_filters=112, kernel_size=5, num_repeat=3, expand_ratio=6, strides=(1, 1), se_ratio=0.25, id_skip=True, fused_conv=False, conv_type='depthwise'), BlockConfig(input_filters=112, output_filters=192, kernel_size=5, num_repeat=4, expand_ratio=6, strides=(2, 2), se_ratio=0.25, id_skip=True, fused_conv=False, conv_type='depthwise'), BlockConfig(input_filters=192, output_filters=320, kernel_size=3, num_repeat=1, expand_ratio=6, strides=(1, 1), se_ratio=0.25, id_skip=True, fused_conv=False, conv_type='depthwise')), stem_base_filters=32, top_base_filters=1280, activation='simple_swish', batch_norm='default', bn_momentum=0.99, bn_epsilon=0.001, weight_decay=5e-06, drop_connect_rate=0.2, depth_divisor=8, min_depth=None, use_se=True, input_channels=3, num_classes=1000, model_name='efficientnet', rescale_input=False, data_format='channels_last', dtype='float32')\n",
      "I0101 17:19:41.220116 139913198311232 ssd_efficientnet_bifpn_feature_extractor.py:142] EfficientDet EfficientNet backbone version: efficientnet-b3\n",
      "I0101 17:19:41.220217 139913198311232 ssd_efficientnet_bifpn_feature_extractor.py:144] EfficientDet BiFPN num filters: 160\n",
      "I0101 17:19:41.220262 139913198311232 ssd_efficientnet_bifpn_feature_extractor.py:145] EfficientDet BiFPN num iterations: 6\n",
      "I0101 17:19:41.221463 139913198311232 efficientnet_model.py:147] round_filter input=32 output=40\n",
      "I0101 17:19:41.234463 139913198311232 efficientnet_model.py:147] round_filter input=32 output=40\n",
      "I0101 17:19:41.234580 139913198311232 efficientnet_model.py:147] round_filter input=16 output=24\n",
      "I0101 17:19:41.320378 139913198311232 efficientnet_model.py:147] round_filter input=16 output=24\n",
      "I0101 17:19:41.320477 139913198311232 efficientnet_model.py:147] round_filter input=24 output=32\n",
      "I0101 17:19:41.481906 139913198311232 efficientnet_model.py:147] round_filter input=24 output=32\n",
      "I0101 17:19:41.482003 139913198311232 efficientnet_model.py:147] round_filter input=40 output=48\n",
      "I0101 17:19:41.647077 139913198311232 efficientnet_model.py:147] round_filter input=40 output=48\n",
      "I0101 17:19:41.647177 139913198311232 efficientnet_model.py:147] round_filter input=80 output=96\n",
      "I0101 17:19:41.915637 139913198311232 efficientnet_model.py:147] round_filter input=80 output=96\n",
      "I0101 17:19:41.915750 139913198311232 efficientnet_model.py:147] round_filter input=112 output=136\n",
      "I0101 17:19:42.196543 139913198311232 efficientnet_model.py:147] round_filter input=112 output=136\n",
      "I0101 17:19:42.196643 139913198311232 efficientnet_model.py:147] round_filter input=192 output=232\n",
      "I0101 17:19:42.514303 139913198311232 efficientnet_model.py:147] round_filter input=192 output=232\n",
      "I0101 17:19:42.514402 139913198311232 efficientnet_model.py:147] round_filter input=320 output=384\n",
      "I0101 17:19:42.620755 139913198311232 efficientnet_model.py:147] round_filter input=1280 output=1536\n",
      "I0101 17:19:42.643647 139913198311232 efficientnet_model.py:457] Building model efficientnet with params ModelConfig(width_coefficient=1.2, depth_coefficient=1.4, resolution=300, dropout_rate=0.3, blocks=(BlockConfig(input_filters=32, output_filters=16, kernel_size=3, num_repeat=1, expand_ratio=1, strides=(1, 1), se_ratio=0.25, id_skip=True, fused_conv=False, conv_type='depthwise'), BlockConfig(input_filters=16, output_filters=24, kernel_size=3, num_repeat=2, expand_ratio=6, strides=(2, 2), se_ratio=0.25, id_skip=True, fused_conv=False, conv_type='depthwise'), BlockConfig(input_filters=24, output_filters=40, kernel_size=5, num_repeat=2, expand_ratio=6, strides=(2, 2), se_ratio=0.25, id_skip=True, fused_conv=False, conv_type='depthwise'), BlockConfig(input_filters=40, output_filters=80, kernel_size=3, num_repeat=3, expand_ratio=6, strides=(2, 2), se_ratio=0.25, id_skip=True, fused_conv=False, conv_type='depthwise'), BlockConfig(input_filters=80, output_filters=112, kernel_size=5, num_repeat=3, expand_ratio=6, strides=(1, 1), se_ratio=0.25, id_skip=True, fused_conv=False, conv_type='depthwise'), BlockConfig(input_filters=112, output_filters=192, kernel_size=5, num_repeat=4, expand_ratio=6, strides=(2, 2), se_ratio=0.25, id_skip=True, fused_conv=False, conv_type='depthwise'), BlockConfig(input_filters=192, output_filters=320, kernel_size=3, num_repeat=1, expand_ratio=6, strides=(1, 1), se_ratio=0.25, id_skip=True, fused_conv=False, conv_type='depthwise')), stem_base_filters=32, top_base_filters=1280, activation='simple_swish', batch_norm='default', bn_momentum=0.99, bn_epsilon=0.001, weight_decay=5e-06, drop_connect_rate=0.2, depth_divisor=8, min_depth=None, use_se=True, input_channels=3, num_classes=1000, model_name='efficientnet', rescale_input=False, data_format='channels_last', dtype='float32')\n",
      "I0101 17:19:42.696280 139913198311232 ssd_efficientnet_bifpn_feature_extractor.py:142] EfficientDet EfficientNet backbone version: efficientnet-b4\n",
      "I0101 17:19:42.696379 139913198311232 ssd_efficientnet_bifpn_feature_extractor.py:144] EfficientDet BiFPN num filters: 224\n",
      "I0101 17:19:42.696423 139913198311232 ssd_efficientnet_bifpn_feature_extractor.py:145] EfficientDet BiFPN num iterations: 7\n",
      "I0101 17:19:42.697496 139913198311232 efficientnet_model.py:147] round_filter input=32 output=48\n",
      "I0101 17:19:42.708517 139913198311232 efficientnet_model.py:147] round_filter input=32 output=48\n",
      "I0101 17:19:42.708670 139913198311232 efficientnet_model.py:147] round_filter input=16 output=24\n"
     ]
    },
    {
     "name": "stdout",
     "output_type": "stream",
     "text": [
      "I0101 17:19:42.794983 139913198311232 efficientnet_model.py:147] round_filter input=16 output=24\n",
      "I0101 17:19:42.795080 139913198311232 efficientnet_model.py:147] round_filter input=24 output=32\n",
      "I0101 17:19:43.023543 139913198311232 efficientnet_model.py:147] round_filter input=24 output=32\n",
      "I0101 17:19:43.023642 139913198311232 efficientnet_model.py:147] round_filter input=40 output=56\n",
      "I0101 17:19:43.258038 139913198311232 efficientnet_model.py:147] round_filter input=40 output=56\n",
      "I0101 17:19:43.258156 139913198311232 efficientnet_model.py:147] round_filter input=80 output=112\n",
      "I0101 17:19:43.576236 139913198311232 efficientnet_model.py:147] round_filter input=80 output=112\n",
      "I0101 17:19:43.576332 139913198311232 efficientnet_model.py:147] round_filter input=112 output=160\n",
      "I0101 17:19:43.893383 139913198311232 efficientnet_model.py:147] round_filter input=112 output=160\n",
      "I0101 17:19:43.893478 139913198311232 efficientnet_model.py:147] round_filter input=192 output=272\n",
      "I0101 17:19:44.538711 139913198311232 efficientnet_model.py:147] round_filter input=192 output=272\n",
      "I0101 17:19:44.538809 139913198311232 efficientnet_model.py:147] round_filter input=320 output=448\n",
      "I0101 17:19:44.649346 139913198311232 efficientnet_model.py:147] round_filter input=1280 output=1792\n",
      "I0101 17:19:44.668989 139913198311232 efficientnet_model.py:457] Building model efficientnet with params ModelConfig(width_coefficient=1.4, depth_coefficient=1.8, resolution=380, dropout_rate=0.4, blocks=(BlockConfig(input_filters=32, output_filters=16, kernel_size=3, num_repeat=1, expand_ratio=1, strides=(1, 1), se_ratio=0.25, id_skip=True, fused_conv=False, conv_type='depthwise'), BlockConfig(input_filters=16, output_filters=24, kernel_size=3, num_repeat=2, expand_ratio=6, strides=(2, 2), se_ratio=0.25, id_skip=True, fused_conv=False, conv_type='depthwise'), BlockConfig(input_filters=24, output_filters=40, kernel_size=5, num_repeat=2, expand_ratio=6, strides=(2, 2), se_ratio=0.25, id_skip=True, fused_conv=False, conv_type='depthwise'), BlockConfig(input_filters=40, output_filters=80, kernel_size=3, num_repeat=3, expand_ratio=6, strides=(2, 2), se_ratio=0.25, id_skip=True, fused_conv=False, conv_type='depthwise'), BlockConfig(input_filters=80, output_filters=112, kernel_size=5, num_repeat=3, expand_ratio=6, strides=(1, 1), se_ratio=0.25, id_skip=True, fused_conv=False, conv_type='depthwise'), BlockConfig(input_filters=112, output_filters=192, kernel_size=5, num_repeat=4, expand_ratio=6, strides=(2, 2), se_ratio=0.25, id_skip=True, fused_conv=False, conv_type='depthwise'), BlockConfig(input_filters=192, output_filters=320, kernel_size=3, num_repeat=1, expand_ratio=6, strides=(1, 1), se_ratio=0.25, id_skip=True, fused_conv=False, conv_type='depthwise')), stem_base_filters=32, top_base_filters=1280, activation='simple_swish', batch_norm='default', bn_momentum=0.99, bn_epsilon=0.001, weight_decay=5e-06, drop_connect_rate=0.2, depth_divisor=8, min_depth=None, use_se=True, input_channels=3, num_classes=1000, model_name='efficientnet', rescale_input=False, data_format='channels_last', dtype='float32')\n",
      "I0101 17:19:44.726778 139913198311232 ssd_efficientnet_bifpn_feature_extractor.py:142] EfficientDet EfficientNet backbone version: efficientnet-b5\n",
      "I0101 17:19:44.726884 139913198311232 ssd_efficientnet_bifpn_feature_extractor.py:144] EfficientDet BiFPN num filters: 288\n",
      "I0101 17:19:44.726970 139913198311232 ssd_efficientnet_bifpn_feature_extractor.py:145] EfficientDet BiFPN num iterations: 7\n",
      "I0101 17:19:44.728240 139913198311232 efficientnet_model.py:147] round_filter input=32 output=48\n",
      "I0101 17:19:44.740534 139913198311232 efficientnet_model.py:147] round_filter input=32 output=48\n",
      "I0101 17:19:44.740676 139913198311232 efficientnet_model.py:147] round_filter input=16 output=24\n",
      "I0101 17:19:44.891116 139913198311232 efficientnet_model.py:147] round_filter input=16 output=24\n",
      "I0101 17:19:44.891216 139913198311232 efficientnet_model.py:147] round_filter input=24 output=40\n",
      "I0101 17:19:45.207492 139913198311232 efficientnet_model.py:147] round_filter input=24 output=40\n",
      "I0101 17:19:45.207591 139913198311232 efficientnet_model.py:147] round_filter input=40 output=64\n",
      "I0101 17:19:45.530254 139913198311232 efficientnet_model.py:147] round_filter input=40 output=64\n",
      "I0101 17:19:45.530378 139913198311232 efficientnet_model.py:147] round_filter input=80 output=128\n",
      "I0101 17:19:45.970051 139913198311232 efficientnet_model.py:147] round_filter input=80 output=128\n",
      "I0101 17:19:45.970274 139913198311232 efficientnet_model.py:147] round_filter input=112 output=176\n",
      "I0101 17:19:46.401707 139913198311232 efficientnet_model.py:147] round_filter input=112 output=176\n",
      "I0101 17:19:46.401860 139913198311232 efficientnet_model.py:147] round_filter input=192 output=304\n",
      "I0101 17:19:46.913301 139913198311232 efficientnet_model.py:147] round_filter input=192 output=304\n",
      "I0101 17:19:46.913401 139913198311232 efficientnet_model.py:147] round_filter input=320 output=512\n",
      "I0101 17:19:47.073998 139913198311232 efficientnet_model.py:147] round_filter input=1280 output=2048\n",
      "I0101 17:19:47.097194 139913198311232 efficientnet_model.py:457] Building model efficientnet with params ModelConfig(width_coefficient=1.6, depth_coefficient=2.2, resolution=456, dropout_rate=0.4, blocks=(BlockConfig(input_filters=32, output_filters=16, kernel_size=3, num_repeat=1, expand_ratio=1, strides=(1, 1), se_ratio=0.25, id_skip=True, fused_conv=False, conv_type='depthwise'), BlockConfig(input_filters=16, output_filters=24, kernel_size=3, num_repeat=2, expand_ratio=6, strides=(2, 2), se_ratio=0.25, id_skip=True, fused_conv=False, conv_type='depthwise'), BlockConfig(input_filters=24, output_filters=40, kernel_size=5, num_repeat=2, expand_ratio=6, strides=(2, 2), se_ratio=0.25, id_skip=True, fused_conv=False, conv_type='depthwise'), BlockConfig(input_filters=40, output_filters=80, kernel_size=3, num_repeat=3, expand_ratio=6, strides=(2, 2), se_ratio=0.25, id_skip=True, fused_conv=False, conv_type='depthwise'), BlockConfig(input_filters=80, output_filters=112, kernel_size=5, num_repeat=3, expand_ratio=6, strides=(1, 1), se_ratio=0.25, id_skip=True, fused_conv=False, conv_type='depthwise'), BlockConfig(input_filters=112, output_filters=192, kernel_size=5, num_repeat=4, expand_ratio=6, strides=(2, 2), se_ratio=0.25, id_skip=True, fused_conv=False, conv_type='depthwise'), BlockConfig(input_filters=192, output_filters=320, kernel_size=3, num_repeat=1, expand_ratio=6, strides=(1, 1), se_ratio=0.25, id_skip=True, fused_conv=False, conv_type='depthwise')), stem_base_filters=32, top_base_filters=1280, activation='simple_swish', batch_norm='default', bn_momentum=0.99, bn_epsilon=0.001, weight_decay=5e-06, drop_connect_rate=0.2, depth_divisor=8, min_depth=None, use_se=True, input_channels=3, num_classes=1000, model_name='efficientnet', rescale_input=False, data_format='channels_last', dtype='float32')\n",
      "I0101 17:19:47.169488 139913198311232 ssd_efficientnet_bifpn_feature_extractor.py:142] EfficientDet EfficientNet backbone version: efficientnet-b6\n",
      "I0101 17:19:47.169586 139913198311232 ssd_efficientnet_bifpn_feature_extractor.py:144] EfficientDet BiFPN num filters: 384\n",
      "I0101 17:19:47.169629 139913198311232 ssd_efficientnet_bifpn_feature_extractor.py:145] EfficientDet BiFPN num iterations: 8\n",
      "I0101 17:19:47.170773 139913198311232 efficientnet_model.py:147] round_filter input=32 output=56\n",
      "I0101 17:19:47.182869 139913198311232 efficientnet_model.py:147] round_filter input=32 output=56\n",
      "I0101 17:19:47.182970 139913198311232 efficientnet_model.py:147] round_filter input=16 output=32\n",
      "I0101 17:19:47.334904 139913198311232 efficientnet_model.py:147] round_filter input=16 output=32\n",
      "I0101 17:19:47.335091 139913198311232 efficientnet_model.py:147] round_filter input=24 output=40\n",
      "I0101 17:19:47.668176 139913198311232 efficientnet_model.py:147] round_filter input=24 output=40\n",
      "I0101 17:19:47.668287 139913198311232 efficientnet_model.py:147] round_filter input=40 output=72\n",
      "I0101 17:19:48.204408 139913198311232 efficientnet_model.py:147] round_filter input=40 output=72\n",
      "I0101 17:19:48.204511 139913198311232 efficientnet_model.py:147] round_filter input=80 output=144\n",
      "I0101 17:19:48.687822 139913198311232 efficientnet_model.py:147] round_filter input=80 output=144\n",
      "I0101 17:19:48.687955 139913198311232 efficientnet_model.py:147] round_filter input=112 output=200\n"
     ]
    },
    {
     "name": "stdout",
     "output_type": "stream",
     "text": [
      "I0101 17:19:49.146516 139913198311232 efficientnet_model.py:147] round_filter input=112 output=200\n",
      "I0101 17:19:49.146643 139913198311232 efficientnet_model.py:147] round_filter input=192 output=344\n",
      "I0101 17:19:49.808535 139913198311232 efficientnet_model.py:147] round_filter input=192 output=344\n",
      "I0101 17:19:49.808633 139913198311232 efficientnet_model.py:147] round_filter input=320 output=576\n",
      "I0101 17:19:49.977208 139913198311232 efficientnet_model.py:147] round_filter input=1280 output=2304\n",
      "I0101 17:19:49.997149 139913198311232 efficientnet_model.py:457] Building model efficientnet with params ModelConfig(width_coefficient=1.8, depth_coefficient=2.6, resolution=528, dropout_rate=0.5, blocks=(BlockConfig(input_filters=32, output_filters=16, kernel_size=3, num_repeat=1, expand_ratio=1, strides=(1, 1), se_ratio=0.25, id_skip=True, fused_conv=False, conv_type='depthwise'), BlockConfig(input_filters=16, output_filters=24, kernel_size=3, num_repeat=2, expand_ratio=6, strides=(2, 2), se_ratio=0.25, id_skip=True, fused_conv=False, conv_type='depthwise'), BlockConfig(input_filters=24, output_filters=40, kernel_size=5, num_repeat=2, expand_ratio=6, strides=(2, 2), se_ratio=0.25, id_skip=True, fused_conv=False, conv_type='depthwise'), BlockConfig(input_filters=40, output_filters=80, kernel_size=3, num_repeat=3, expand_ratio=6, strides=(2, 2), se_ratio=0.25, id_skip=True, fused_conv=False, conv_type='depthwise'), BlockConfig(input_filters=80, output_filters=112, kernel_size=5, num_repeat=3, expand_ratio=6, strides=(1, 1), se_ratio=0.25, id_skip=True, fused_conv=False, conv_type='depthwise'), BlockConfig(input_filters=112, output_filters=192, kernel_size=5, num_repeat=4, expand_ratio=6, strides=(2, 2), se_ratio=0.25, id_skip=True, fused_conv=False, conv_type='depthwise'), BlockConfig(input_filters=192, output_filters=320, kernel_size=3, num_repeat=1, expand_ratio=6, strides=(1, 1), se_ratio=0.25, id_skip=True, fused_conv=False, conv_type='depthwise')), stem_base_filters=32, top_base_filters=1280, activation='simple_swish', batch_norm='default', bn_momentum=0.99, bn_epsilon=0.001, weight_decay=5e-06, drop_connect_rate=0.2, depth_divisor=8, min_depth=None, use_se=True, input_channels=3, num_classes=1000, model_name='efficientnet', rescale_input=False, data_format='channels_last', dtype='float32')\n",
      "I0101 17:19:50.075169 139913198311232 ssd_efficientnet_bifpn_feature_extractor.py:142] EfficientDet EfficientNet backbone version: efficientnet-b7\n",
      "I0101 17:19:50.075360 139913198311232 ssd_efficientnet_bifpn_feature_extractor.py:144] EfficientDet BiFPN num filters: 384\n",
      "I0101 17:19:50.075416 139913198311232 ssd_efficientnet_bifpn_feature_extractor.py:145] EfficientDet BiFPN num iterations: 8\n",
      "I0101 17:19:50.076834 139913198311232 efficientnet_model.py:147] round_filter input=32 output=64\n",
      "I0101 17:19:50.088962 139913198311232 efficientnet_model.py:147] round_filter input=32 output=64\n",
      "I0101 17:19:50.089057 139913198311232 efficientnet_model.py:147] round_filter input=16 output=32\n",
      "I0101 17:19:50.265261 139913198311232 efficientnet_model.py:147] round_filter input=16 output=32\n",
      "I0101 17:19:50.265372 139913198311232 efficientnet_model.py:147] round_filter input=24 output=48\n",
      "I0101 17:19:50.648233 139913198311232 efficientnet_model.py:147] round_filter input=24 output=48\n",
      "I0101 17:19:50.648347 139913198311232 efficientnet_model.py:147] round_filter input=40 output=80\n",
      "I0101 17:19:51.092735 139913198311232 efficientnet_model.py:147] round_filter input=40 output=80\n",
      "I0101 17:19:51.092922 139913198311232 efficientnet_model.py:147] round_filter input=80 output=160\n",
      "I0101 17:19:51.647832 139913198311232 efficientnet_model.py:147] round_filter input=80 output=160\n",
      "I0101 17:19:51.647951 139913198311232 efficientnet_model.py:147] round_filter input=112 output=224\n",
      "I0101 17:19:52.389753 139913198311232 efficientnet_model.py:147] round_filter input=112 output=224\n",
      "I0101 17:19:52.389858 139913198311232 efficientnet_model.py:147] round_filter input=192 output=384\n",
      "I0101 17:19:53.164187 139913198311232 efficientnet_model.py:147] round_filter input=192 output=384\n",
      "I0101 17:19:53.164288 139913198311232 efficientnet_model.py:147] round_filter input=320 output=640\n",
      "I0101 17:19:53.412508 139913198311232 efficientnet_model.py:147] round_filter input=1280 output=2560\n",
      "I0101 17:19:53.438381 139913198311232 efficientnet_model.py:457] Building model efficientnet with params ModelConfig(width_coefficient=2.0, depth_coefficient=3.1, resolution=600, dropout_rate=0.5, blocks=(BlockConfig(input_filters=32, output_filters=16, kernel_size=3, num_repeat=1, expand_ratio=1, strides=(1, 1), se_ratio=0.25, id_skip=True, fused_conv=False, conv_type='depthwise'), BlockConfig(input_filters=16, output_filters=24, kernel_size=3, num_repeat=2, expand_ratio=6, strides=(2, 2), se_ratio=0.25, id_skip=True, fused_conv=False, conv_type='depthwise'), BlockConfig(input_filters=24, output_filters=40, kernel_size=5, num_repeat=2, expand_ratio=6, strides=(2, 2), se_ratio=0.25, id_skip=True, fused_conv=False, conv_type='depthwise'), BlockConfig(input_filters=40, output_filters=80, kernel_size=3, num_repeat=3, expand_ratio=6, strides=(2, 2), se_ratio=0.25, id_skip=True, fused_conv=False, conv_type='depthwise'), BlockConfig(input_filters=80, output_filters=112, kernel_size=5, num_repeat=3, expand_ratio=6, strides=(1, 1), se_ratio=0.25, id_skip=True, fused_conv=False, conv_type='depthwise'), BlockConfig(input_filters=112, output_filters=192, kernel_size=5, num_repeat=4, expand_ratio=6, strides=(2, 2), se_ratio=0.25, id_skip=True, fused_conv=False, conv_type='depthwise'), BlockConfig(input_filters=192, output_filters=320, kernel_size=3, num_repeat=1, expand_ratio=6, strides=(1, 1), se_ratio=0.25, id_skip=True, fused_conv=False, conv_type='depthwise')), stem_base_filters=32, top_base_filters=1280, activation='simple_swish', batch_norm='default', bn_momentum=0.99, bn_epsilon=0.001, weight_decay=5e-06, drop_connect_rate=0.2, depth_divisor=8, min_depth=None, use_se=True, input_channels=3, num_classes=1000, model_name='efficientnet', rescale_input=False, data_format='channels_last', dtype='float32')\n",
      "INFO:tensorflow:time(__main__.ModelBuilderTF2Test.test_create_ssd_models_from_config): 16.5s\n",
      "I0101 17:19:53.538324 139913198311232 test_util.py:2308] time(__main__.ModelBuilderTF2Test.test_create_ssd_models_from_config): 16.5s\n",
      "[       OK ] ModelBuilderTF2Test.test_create_ssd_models_from_config\n",
      "[ RUN      ] ModelBuilderTF2Test.test_invalid_faster_rcnn_batchnorm_update\n",
      "INFO:tensorflow:time(__main__.ModelBuilderTF2Test.test_invalid_faster_rcnn_batchnorm_update): 0.01s\n",
      "I0101 17:19:53.548297 139913198311232 test_util.py:2308] time(__main__.ModelBuilderTF2Test.test_invalid_faster_rcnn_batchnorm_update): 0.01s\n",
      "[       OK ] ModelBuilderTF2Test.test_invalid_faster_rcnn_batchnorm_update\n",
      "[ RUN      ] ModelBuilderTF2Test.test_invalid_first_stage_nms_iou_threshold\n",
      "INFO:tensorflow:time(__main__.ModelBuilderTF2Test.test_invalid_first_stage_nms_iou_threshold): 0.0s\n",
      "I0101 17:19:53.550054 139913198311232 test_util.py:2308] time(__main__.ModelBuilderTF2Test.test_invalid_first_stage_nms_iou_threshold): 0.0s\n",
      "[       OK ] ModelBuilderTF2Test.test_invalid_first_stage_nms_iou_threshold\n",
      "[ RUN      ] ModelBuilderTF2Test.test_invalid_model_config_proto\n",
      "INFO:tensorflow:time(__main__.ModelBuilderTF2Test.test_invalid_model_config_proto): 0.0s\n",
      "I0101 17:19:53.550469 139913198311232 test_util.py:2308] time(__main__.ModelBuilderTF2Test.test_invalid_model_config_proto): 0.0s\n",
      "[       OK ] ModelBuilderTF2Test.test_invalid_model_config_proto\n",
      "[ RUN      ] ModelBuilderTF2Test.test_invalid_second_stage_batch_size\n",
      "INFO:tensorflow:time(__main__.ModelBuilderTF2Test.test_invalid_second_stage_batch_size): 0.0s\n",
      "I0101 17:19:53.552100 139913198311232 test_util.py:2308] time(__main__.ModelBuilderTF2Test.test_invalid_second_stage_batch_size): 0.0s\n",
      "[       OK ] ModelBuilderTF2Test.test_invalid_second_stage_batch_size\n",
      "[ RUN      ] ModelBuilderTF2Test.test_session\n",
      "[  SKIPPED ] ModelBuilderTF2Test.test_session\n",
      "[ RUN      ] ModelBuilderTF2Test.test_unknown_faster_rcnn_feature_extractor\n",
      "INFO:tensorflow:time(__main__.ModelBuilderTF2Test.test_unknown_faster_rcnn_feature_extractor): 0.0s\n",
      "I0101 17:19:53.553308 139913198311232 test_util.py:2308] time(__main__.ModelBuilderTF2Test.test_unknown_faster_rcnn_feature_extractor): 0.0s\n",
      "[       OK ] ModelBuilderTF2Test.test_unknown_faster_rcnn_feature_extractor\n",
      "[ RUN      ] ModelBuilderTF2Test.test_unknown_meta_architecture\n",
      "INFO:tensorflow:time(__main__.ModelBuilderTF2Test.test_unknown_meta_architecture): 0.0s\n",
      "I0101 17:19:53.553615 139913198311232 test_util.py:2308] time(__main__.ModelBuilderTF2Test.test_unknown_meta_architecture): 0.0s\n",
      "[       OK ] ModelBuilderTF2Test.test_unknown_meta_architecture\n",
      "[ RUN      ] ModelBuilderTF2Test.test_unknown_ssd_feature_extractor\n",
      "INFO:tensorflow:time(__main__.ModelBuilderTF2Test.test_unknown_ssd_feature_extractor): 0.0s\n",
      "I0101 17:19:53.554274 139913198311232 test_util.py:2308] time(__main__.ModelBuilderTF2Test.test_unknown_ssd_feature_extractor): 0.0s\n",
      "[       OK ] ModelBuilderTF2Test.test_unknown_ssd_feature_extractor\n",
      "----------------------------------------------------------------------\n",
      "Ran 24 tests in 20.811s\n",
      "\n",
      "OK (skipped=1)\n"
     ]
    }
   ],
   "source": [
    "VERIFICATION_SCRIPT = os.path.join(paths['APIMODEL_PATH'], 'research', 'object_detection', 'builders', 'model_builder_tf2_test.py')\n",
    "# Verify Installation\n",
    "!python {VERIFICATION_SCRIPT}"
   ]
  },
  {
   "cell_type": "markdown",
   "id": "b69c108a",
   "metadata": {},
   "source": [
    "## Get your pretrained Model"
   ]
  },
  {
   "cell_type": "code",
   "execution_count": 10,
   "id": "35cad678",
   "metadata": {},
   "outputs": [],
   "source": [
    "import object_detection"
   ]
  },
  {
   "cell_type": "code",
   "execution_count": 11,
   "id": "d204875d",
   "metadata": {},
   "outputs": [
    {
     "name": "stdout",
     "output_type": "stream",
     "text": [
      "--2022-01-01 17:21:03--  http://download.tensorflow.org/models/object_detection/tf2/20200711/ssd_mobilenet_v2_fpnlite_320x320_coco17_tpu-8.tar.gz\n",
      "Resolving download.tensorflow.org (download.tensorflow.org)... 142.250.189.208\n",
      "Connecting to download.tensorflow.org (download.tensorflow.org)|142.250.189.208|:80... connected.\n",
      "HTTP request sent, awaiting response... 200 OK\n",
      "Length: 20515344 (20M) [application/x-tar]\n",
      "Saving to: ‘ssd_mobilenet_v2_fpnlite_320x320_coco17_tpu-8.tar.gz’\n",
      "\n",
      "ssd_mobilenet_v2_fp 100%[===================>]  19.56M  5.72MB/s    in 3.4s    \n",
      "\n",
      "2022-01-01 17:21:08 (5.72 MB/s) - ‘ssd_mobilenet_v2_fpnlite_320x320_coco17_tpu-8.tar.gz’ saved [20515344/20515344]\n",
      "\n",
      "ssd_mobilenet_v2_fpnlite_320x320_coco17_tpu-8/\n",
      "ssd_mobilenet_v2_fpnlite_320x320_coco17_tpu-8/checkpoint/\n",
      "ssd_mobilenet_v2_fpnlite_320x320_coco17_tpu-8/checkpoint/ckpt-0.data-00000-of-00001\n",
      "ssd_mobilenet_v2_fpnlite_320x320_coco17_tpu-8/checkpoint/checkpoint\n",
      "ssd_mobilenet_v2_fpnlite_320x320_coco17_tpu-8/checkpoint/ckpt-0.index\n",
      "ssd_mobilenet_v2_fpnlite_320x320_coco17_tpu-8/pipeline.config\n",
      "ssd_mobilenet_v2_fpnlite_320x320_coco17_tpu-8/saved_model/\n",
      "ssd_mobilenet_v2_fpnlite_320x320_coco17_tpu-8/saved_model/saved_model.pb\n",
      "ssd_mobilenet_v2_fpnlite_320x320_coco17_tpu-8/saved_model/variables/\n",
      "ssd_mobilenet_v2_fpnlite_320x320_coco17_tpu-8/saved_model/variables/variables.data-00000-of-00001\n",
      "ssd_mobilenet_v2_fpnlite_320x320_coco17_tpu-8/saved_model/variables/variables.index\n"
     ]
    }
   ],
   "source": [
    "if os.name =='posix':\n",
    "    !wget {PRETRAINED_MODEL_URL}\n",
    "    !mv {PRETRAINED_MODEL_NAME+'.tar.gz'} {paths['PRETRAINED_MODEL_PATH']}\n",
    "    !cd {paths['PRETRAINED_MODEL_PATH']} && tar -zxvf {PRETRAINED_MODEL_NAME+'.tar.gz'}\n",
    "if os.name == 'nt':\n",
    "    wget.download(PRETRAINED_MODEL_URL)\n",
    "    !move {PRETRAINED_MODEL_NAME+'.tar.gz'} {paths['PRETRAINED_MODEL_PATH']}\n",
    "    !cd {paths['PRETRAINED_MODEL_PATH']} && tar -zxvf {PRETRAINED_MODEL_NAME+'.tar.gz'}"
   ]
  },
  {
   "cell_type": "markdown",
   "id": "12d779e0",
   "metadata": {},
   "source": [
    "## Create Label Map"
   ]
  },
  {
   "cell_type": "code",
   "execution_count": 12,
   "id": "971f0639",
   "metadata": {},
   "outputs": [],
   "source": [
    "labels = [{'name':'ThumbsUp', 'id':1}, {'name':'ThumbsDown', 'id':2}, {'name':'Ok', 'id':3}, {'name':'Metal', 'id':4}]\n",
    "\n",
    "with open(files['LABELMAP'], 'w') as f:\n",
    "    for label in labels:\n",
    "        f.write('item { \\n')\n",
    "        f.write('\\tname:\\'{}\\'\\n'.format(label['name']))\n",
    "        f.write('\\tid:{}\\n'.format(label['id']))\n",
    "        f.write('}\\n')"
   ]
  },
  {
   "cell_type": "markdown",
   "id": "860fc4f7",
   "metadata": {},
   "source": [
    "## Create TF Records"
   ]
  },
  {
   "cell_type": "code",
   "execution_count": 13,
   "id": "584fffca",
   "metadata": {},
   "outputs": [],
   "source": [
    "# OPTIONAL IF RUNNING ON COLAB\n",
    "ARCHIVE_FILES = os.path.join(paths['IMAGE_PATH'], 'archive.tar.gz')\n",
    "if os.path.exists(ARCHIVE_FILES):\n",
    "  !tar -zxvf {ARCHIVE_FILES}"
   ]
  },
  {
   "cell_type": "code",
   "execution_count": 14,
   "id": "1abbbfe6",
   "metadata": {},
   "outputs": [
    {
     "name": "stdout",
     "output_type": "stream",
     "text": [
      "Cloning into 'Tensorflow/scripts'...\n",
      "remote: Enumerating objects: 3, done.\u001b[K\n",
      "remote: Counting objects: 100% (3/3), done.\u001b[K\n",
      "remote: Compressing objects: 100% (2/2), done.\u001b[K\n",
      "remote: Total 3 (delta 0), reused 1 (delta 0), pack-reused 0\u001b[K\n",
      "\u001b[KUnpacking objects: 100% (3/3), done.\n"
     ]
    }
   ],
   "source": [
    "if not os.path.exists(files['TF_RECORD_SCRIPT']):\n",
    "    !git clone https://github.com/mpolinowski/GenerateTFRecord {paths['SCRIPTS_PATH']}"
   ]
  },
  {
   "cell_type": "code",
   "execution_count": 16,
   "id": "95c607d4",
   "metadata": {},
   "outputs": [
    {
     "name": "stdout",
     "output_type": "stream",
     "text": [
      "Successfully created the TFRecord file: Tensorflow/workspace/annotations/train.record\n",
      "Successfully created the TFRecord file: Tensorflow/workspace/annotations/test.record\n"
     ]
    }
   ],
   "source": [
    "!python {files['TF_RECORD_SCRIPT']} -x {os.path.join(paths['IMAGE_PATH'], 'train')} -l {files['LABELMAP']} -o {os.path.join(paths['ANNOTATION_PATH'], 'train.record')} \n",
    "!python {files['TF_RECORD_SCRIPT']} -x {os.path.join(paths['IMAGE_PATH'], 'test')} -l {files['LABELMAP']} -o {os.path.join(paths['ANNOTATION_PATH'], 'test.record')} "
   ]
  },
  {
   "cell_type": "markdown",
   "id": "d17f718a",
   "metadata": {},
   "source": [
    "## Copy Model Config to Training Folder"
   ]
  },
  {
   "cell_type": "code",
   "execution_count": 17,
   "id": "a282f367",
   "metadata": {},
   "outputs": [],
   "source": [
    "if os.name =='posix':\n",
    "    !cp {os.path.join(paths['PRETRAINED_MODEL_PATH'], PRETRAINED_MODEL_NAME, 'pipeline.config')} {os.path.join(paths['CHECKPOINT_PATH'])}\n",
    "if os.name == 'nt':\n",
    "    !copy {os.path.join(paths['PRETRAINED_MODEL_PATH'], PRETRAINED_MODEL_NAME, 'pipeline.config')} {os.path.join(paths['CHECKPOINT_PATH'])}"
   ]
  },
  {
   "cell_type": "markdown",
   "id": "1c762698",
   "metadata": {},
   "source": [
    "## Update Config For Transfer Learning"
   ]
  },
  {
   "cell_type": "code",
   "execution_count": 18,
   "id": "2bd31232",
   "metadata": {},
   "outputs": [],
   "source": [
    "import tensorflow as tf\n",
    "from object_detection.utils import config_util\n",
    "from object_detection.protos import pipeline_pb2\n",
    "from google.protobuf import text_format"
   ]
  },
  {
   "cell_type": "code",
   "execution_count": 19,
   "id": "8b562b80",
   "metadata": {},
   "outputs": [],
   "source": [
    "config = config_util.get_configs_from_pipeline_file(files['PIPELINE_CONFIG'])"
   ]
  },
  {
   "cell_type": "code",
   "execution_count": 20,
   "id": "91f0e0ee",
   "metadata": {},
   "outputs": [
    {
     "data": {
      "text/plain": [
       "{'model': ssd {\n",
       "   num_classes: 90\n",
       "   image_resizer {\n",
       "     fixed_shape_resizer {\n",
       "       height: 320\n",
       "       width: 320\n",
       "     }\n",
       "   }\n",
       "   feature_extractor {\n",
       "     type: \"ssd_mobilenet_v2_fpn_keras\"\n",
       "     depth_multiplier: 1.0\n",
       "     min_depth: 16\n",
       "     conv_hyperparams {\n",
       "       regularizer {\n",
       "         l2_regularizer {\n",
       "           weight: 3.9999998989515007e-05\n",
       "         }\n",
       "       }\n",
       "       initializer {\n",
       "         random_normal_initializer {\n",
       "           mean: 0.0\n",
       "           stddev: 0.009999999776482582\n",
       "         }\n",
       "       }\n",
       "       activation: RELU_6\n",
       "       batch_norm {\n",
       "         decay: 0.996999979019165\n",
       "         scale: true\n",
       "         epsilon: 0.0010000000474974513\n",
       "       }\n",
       "     }\n",
       "     use_depthwise: true\n",
       "     override_base_feature_extractor_hyperparams: true\n",
       "     fpn {\n",
       "       min_level: 3\n",
       "       max_level: 7\n",
       "       additional_layer_depth: 128\n",
       "     }\n",
       "   }\n",
       "   box_coder {\n",
       "     faster_rcnn_box_coder {\n",
       "       y_scale: 10.0\n",
       "       x_scale: 10.0\n",
       "       height_scale: 5.0\n",
       "       width_scale: 5.0\n",
       "     }\n",
       "   }\n",
       "   matcher {\n",
       "     argmax_matcher {\n",
       "       matched_threshold: 0.5\n",
       "       unmatched_threshold: 0.5\n",
       "       ignore_thresholds: false\n",
       "       negatives_lower_than_unmatched: true\n",
       "       force_match_for_each_row: true\n",
       "       use_matmul_gather: true\n",
       "     }\n",
       "   }\n",
       "   similarity_calculator {\n",
       "     iou_similarity {\n",
       "     }\n",
       "   }\n",
       "   box_predictor {\n",
       "     weight_shared_convolutional_box_predictor {\n",
       "       conv_hyperparams {\n",
       "         regularizer {\n",
       "           l2_regularizer {\n",
       "             weight: 3.9999998989515007e-05\n",
       "           }\n",
       "         }\n",
       "         initializer {\n",
       "           random_normal_initializer {\n",
       "             mean: 0.0\n",
       "             stddev: 0.009999999776482582\n",
       "           }\n",
       "         }\n",
       "         activation: RELU_6\n",
       "         batch_norm {\n",
       "           decay: 0.996999979019165\n",
       "           scale: true\n",
       "           epsilon: 0.0010000000474974513\n",
       "         }\n",
       "       }\n",
       "       depth: 128\n",
       "       num_layers_before_predictor: 4\n",
       "       kernel_size: 3\n",
       "       class_prediction_bias_init: -4.599999904632568\n",
       "       share_prediction_tower: true\n",
       "       use_depthwise: true\n",
       "     }\n",
       "   }\n",
       "   anchor_generator {\n",
       "     multiscale_anchor_generator {\n",
       "       min_level: 3\n",
       "       max_level: 7\n",
       "       anchor_scale: 4.0\n",
       "       aspect_ratios: 1.0\n",
       "       aspect_ratios: 2.0\n",
       "       aspect_ratios: 0.5\n",
       "       scales_per_octave: 2\n",
       "     }\n",
       "   }\n",
       "   post_processing {\n",
       "     batch_non_max_suppression {\n",
       "       score_threshold: 9.99999993922529e-09\n",
       "       iou_threshold: 0.6000000238418579\n",
       "       max_detections_per_class: 100\n",
       "       max_total_detections: 100\n",
       "       use_static_shapes: false\n",
       "     }\n",
       "     score_converter: SIGMOID\n",
       "   }\n",
       "   normalize_loss_by_num_matches: true\n",
       "   loss {\n",
       "     localization_loss {\n",
       "       weighted_smooth_l1 {\n",
       "       }\n",
       "     }\n",
       "     classification_loss {\n",
       "       weighted_sigmoid_focal {\n",
       "         gamma: 2.0\n",
       "         alpha: 0.25\n",
       "       }\n",
       "     }\n",
       "     classification_weight: 1.0\n",
       "     localization_weight: 1.0\n",
       "   }\n",
       "   encode_background_as_zeros: true\n",
       "   normalize_loc_loss_by_codesize: true\n",
       "   inplace_batchnorm_update: true\n",
       "   freeze_batchnorm: false\n",
       " },\n",
       " 'train_config': batch_size: 128\n",
       " data_augmentation_options {\n",
       "   random_horizontal_flip {\n",
       "   }\n",
       " }\n",
       " data_augmentation_options {\n",
       "   random_crop_image {\n",
       "     min_object_covered: 0.0\n",
       "     min_aspect_ratio: 0.75\n",
       "     max_aspect_ratio: 3.0\n",
       "     min_area: 0.75\n",
       "     max_area: 1.0\n",
       "     overlap_thresh: 0.0\n",
       "   }\n",
       " }\n",
       " sync_replicas: true\n",
       " optimizer {\n",
       "   momentum_optimizer {\n",
       "     learning_rate {\n",
       "       cosine_decay_learning_rate {\n",
       "         learning_rate_base: 0.07999999821186066\n",
       "         total_steps: 50000\n",
       "         warmup_learning_rate: 0.026666000485420227\n",
       "         warmup_steps: 1000\n",
       "       }\n",
       "     }\n",
       "     momentum_optimizer_value: 0.8999999761581421\n",
       "   }\n",
       "   use_moving_average: false\n",
       " }\n",
       " fine_tune_checkpoint: \"PATH_TO_BE_CONFIGURED\"\n",
       " num_steps: 50000\n",
       " startup_delay_steps: 0.0\n",
       " replicas_to_aggregate: 8\n",
       " max_number_of_boxes: 100\n",
       " unpad_groundtruth_tensors: false\n",
       " fine_tune_checkpoint_type: \"classification\"\n",
       " fine_tune_checkpoint_version: V2,\n",
       " 'train_input_config': label_map_path: \"PATH_TO_BE_CONFIGURED\"\n",
       " tf_record_input_reader {\n",
       "   input_path: \"PATH_TO_BE_CONFIGURED\"\n",
       " },\n",
       " 'eval_config': metrics_set: \"coco_detection_metrics\"\n",
       " use_moving_averages: false,\n",
       " 'eval_input_configs': [label_map_path: \"PATH_TO_BE_CONFIGURED\"\n",
       " shuffle: false\n",
       " num_epochs: 1\n",
       " tf_record_input_reader {\n",
       "   input_path: \"PATH_TO_BE_CONFIGURED\"\n",
       " }\n",
       " ],\n",
       " 'eval_input_config': label_map_path: \"PATH_TO_BE_CONFIGURED\"\n",
       " shuffle: false\n",
       " num_epochs: 1\n",
       " tf_record_input_reader {\n",
       "   input_path: \"PATH_TO_BE_CONFIGURED\"\n",
       " }}"
      ]
     },
     "execution_count": 20,
     "metadata": {},
     "output_type": "execute_result"
    }
   ],
   "source": [
    "config"
   ]
  },
  {
   "cell_type": "code",
   "execution_count": 21,
   "id": "e69da024",
   "metadata": {},
   "outputs": [],
   "source": [
    "pipeline_config = pipeline_pb2.TrainEvalPipelineConfig()\n",
    "with tf.io.gfile.GFile(files['PIPELINE_CONFIG'], \"r\") as f:                                                                                                                                                                                                                     \n",
    "    proto_str = f.read()                                                                                                                                                                                                                                          \n",
    "    text_format.Merge(proto_str, pipeline_config)  "
   ]
  },
  {
   "cell_type": "code",
   "execution_count": 22,
   "id": "d17b06b2",
   "metadata": {},
   "outputs": [],
   "source": [
    "pipeline_config.model.ssd.num_classes = len(labels)\n",
    "pipeline_config.train_config.batch_size = 4\n",
    "pipeline_config.train_config.fine_tune_checkpoint = os.path.join(paths['PRETRAINED_MODEL_PATH'], PRETRAINED_MODEL_NAME, 'checkpoint', 'ckpt-0')\n",
    "pipeline_config.train_config.fine_tune_checkpoint_type = \"detection\"\n",
    "pipeline_config.train_input_reader.label_map_path= files['LABELMAP']\n",
    "pipeline_config.train_input_reader.tf_record_input_reader.input_path[:] = [os.path.join(paths['ANNOTATION_PATH'], 'train.record')]\n",
    "pipeline_config.eval_input_reader[0].label_map_path = files['LABELMAP']\n",
    "pipeline_config.eval_input_reader[0].tf_record_input_reader.input_path[:] = [os.path.join(paths['ANNOTATION_PATH'], 'test.record')]"
   ]
  },
  {
   "cell_type": "code",
   "execution_count": 23,
   "id": "76bcb795",
   "metadata": {},
   "outputs": [],
   "source": [
    "config_text = text_format.MessageToString(pipeline_config)                                                                                                                                                                                                        \n",
    "with tf.io.gfile.GFile(files['PIPELINE_CONFIG'], \"wb\") as f:                                                                                                                                                                                                                     \n",
    "    f.write(config_text)   "
   ]
  },
  {
   "cell_type": "markdown",
   "id": "a781a2f0",
   "metadata": {},
   "source": [
    "## Train the model"
   ]
  },
  {
   "cell_type": "code",
   "execution_count": 24,
   "id": "3b04b7f8",
   "metadata": {},
   "outputs": [],
   "source": [
    "TRAINING_SCRIPT = os.path.join(paths['APIMODEL_PATH'], 'research', 'object_detection', 'model_main_tf2.py')"
   ]
  },
  {
   "cell_type": "code",
   "execution_count": 25,
   "id": "b216c80e",
   "metadata": {},
   "outputs": [],
   "source": [
    "command = \"python {} --model_dir={} --pipeline_config_path={} --num_train_steps=2000\".format(TRAINING_SCRIPT, paths['CHECKPOINT_PATH'],files['PIPELINE_CONFIG'])"
   ]
  },
  {
   "cell_type": "code",
   "execution_count": 26,
   "id": "72fe9469",
   "metadata": {},
   "outputs": [
    {
     "name": "stdout",
     "output_type": "stream",
     "text": [
      "python Tensorflow/models/research/object_detection/model_main_tf2.py --model_dir=Tensorflow/workspace/models/my_ssd_mobnet --pipeline_config_path=Tensorflow/workspace/models/my_ssd_mobnet/pipeline.config --num_train_steps=2000\n"
     ]
    }
   ],
   "source": [
    "print(command)"
   ]
  },
  {
   "cell_type": "code",
   "execution_count": 27,
   "id": "0463352e",
   "metadata": {},
   "outputs": [],
   "source": [
    "# !{command}"
   ]
  },
  {
   "cell_type": "markdown",
   "id": "666abf43",
   "metadata": {},
   "source": [
    "## Evaluate the Model"
   ]
  },
  {
   "cell_type": "code",
   "execution_count": 28,
   "id": "54bc23ef",
   "metadata": {},
   "outputs": [],
   "source": [
    "command = \"python {} --model_dir={} --pipeline_config_path={} --checkpoint_dir={}\".format(TRAINING_SCRIPT, paths['CHECKPOINT_PATH'],files['PIPELINE_CONFIG'], paths['CHECKPOINT_PATH'])"
   ]
  },
  {
   "cell_type": "code",
   "execution_count": 29,
   "id": "ddeb2153",
   "metadata": {},
   "outputs": [
    {
     "name": "stdout",
     "output_type": "stream",
     "text": [
      "python Tensorflow/models/research/object_detection/model_main_tf2.py --model_dir=Tensorflow/workspace/models/my_ssd_mobnet --pipeline_config_path=Tensorflow/workspace/models/my_ssd_mobnet/pipeline.config --checkpoint_dir=Tensorflow/workspace/models/my_ssd_mobnet\n"
     ]
    }
   ],
   "source": [
    "print(command)"
   ]
  },
  {
   "cell_type": "code",
   "execution_count": 30,
   "id": "ed252cf7",
   "metadata": {},
   "outputs": [],
   "source": [
    "# !{command}"
   ]
  },
  {
   "cell_type": "code",
   "execution_count": null,
   "id": "477d7d2f",
   "metadata": {},
   "outputs": [],
   "source": []
  }
 ],
 "metadata": {
  "kernelspec": {
   "display_name": "tfodj",
   "language": "python",
   "name": "tfodj"
  },
  "language_info": {
   "codemirror_mode": {
    "name": "ipython",
    "version": 3
   },
   "file_extension": ".py",
   "mimetype": "text/x-python",
   "name": "python",
   "nbconvert_exporter": "python",
   "pygments_lexer": "ipython3",
   "version": "3.9.7"
  }
 },
 "nbformat": 4,
 "nbformat_minor": 5
}
